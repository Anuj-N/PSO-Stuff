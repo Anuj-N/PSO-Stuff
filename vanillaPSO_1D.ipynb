{
 "cells": [
  {
   "cell_type": "code",
   "execution_count": null,
   "metadata": {},
   "outputs": [],
   "source": [
    "import numpy as np\n",
    "\n",
    "def obj (x) :\n",
    "    #return np.square (x) # x^2\n",
    "    return np.power(x, 4) + np.power(x, 3) - 10*np.square(x) + x + 5 # x^4 + x^3 - 4x^2 + x + 5"
   ]
  },
  {
   "cell_type": "markdown",
   "metadata": {},
   "source": [
    "# Initialise parameters"
   ]
  },
  {
   "cell_type": "code",
   "execution_count": null,
   "metadata": {},
   "outputs": [],
   "source": [
    "Np = 5\n",
    "w = 0.7\n",
    "c1 = 1.5\n",
    "c2 = 1.5\n",
    "r1 = np.random.rand ()\n",
    "r2 = np.random.rand ()"
   ]
  },
  {
   "cell_type": "markdown",
   "metadata": {},
   "source": [
    "# Initialise particles and velocities"
   ]
  },
  {
   "cell_type": "code",
   "execution_count": null,
   "metadata": {},
   "outputs": [],
   "source": [
    "particles = 20 * np.random.rand(5, 1) - 10\n",
    "velocity = 20 * np.random.rand(5, 1) - 10\n",
    "momentum = np.zeros (Np,)\n",
    "pbest = particles\n",
    "\n",
    "gbest = min (particles , key = lambda x : obj(x))"
   ]
  },
  {
   "cell_type": "markdown",
   "metadata": {},
   "source": [
    "# Optimization loop"
   ]
  },
  {
   "cell_type": "code",
   "execution_count": null,
   "metadata": {},
   "outputs": [],
   "source": [
    "for i in range (0, 100) :\n",
    "    r1 = np.random.rand (Np, 1)\n",
    "    r2 = np.random.rand (Np, 1)\n",
    "    \n",
    "    velocity = w*velocity + c1*r1*(pbest - particles) + c2*r2*(gbest - particles)\n",
    "    particles = particles + velocity\n",
    "    \n",
    "    gbest = min (particles , key = lambda x : obj(x))\n",
    "    less = obj(particles) < obj(pbest)\n",
    "    \n",
    "    pbest = less * particles + np.invert (less) * pbest\n",
    "    \n",
    "    # print (gbest, obj(gbest))"
   ]
  },
  {
   "cell_type": "code",
   "execution_count": null,
   "metadata": {},
   "outputs": [],
   "source": [
    "print (particles)\n",
    "print (\"Global best is at = \" + str(gbest))"
   ]
  }
 ],
 "metadata": {
  "kernelspec": {
   "display_name": "Python 3",
   "language": "python",
   "name": "python3"
  },
  "language_info": {
   "codemirror_mode": {
    "name": "ipython",
    "version": 3
   },
   "file_extension": ".py",
   "mimetype": "text/x-python",
   "name": "python",
   "nbconvert_exporter": "python",
   "pygments_lexer": "ipython3",
   "version": "3.7.3"
  }
 },
 "nbformat": 4,
 "nbformat_minor": 2
}
