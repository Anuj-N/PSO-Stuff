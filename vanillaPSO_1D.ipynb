{
 "cells": [
  {
   "cell_type": "code",
   "execution_count": 56,
   "metadata": {},
   "outputs": [],
   "source": [
    "import numpy as np\n",
    "\n",
    "def obj (x) :\n",
    "    #return np.square (x) # x^2\n",
    "    return np.power(x, 4) + np.power(x, 3) - 10*np.square(x) + x + 5 # x^4 + x^3 - 4x^2 + x + 5"
   ]
  },
  {
   "cell_type": "code",
   "execution_count": 57,
   "metadata": {},
   "outputs": [],
   "source": [
    "Np = 5\n",
    "w = 0.7\n",
    "c1 = 1.5\n",
    "c2 = 1.5\n",
    "r1 = np.random.rand ()\n",
    "r2 = np.random.rand ()"
   ]
  },
  {
   "cell_type": "code",
   "execution_count": 58,
   "metadata": {},
   "outputs": [
    {
     "name": "stdout",
     "output_type": "stream",
     "text": [
      "[[9.13232125]\n",
      " [6.01003213]\n",
      " [9.98908012]\n",
      " [7.91562468]\n",
      " [9.08348674]]\n",
      "[6.01003213]\n"
     ]
    }
   ],
   "source": [
    "particles = 20 * np.random.rand(5, 1) - 10\n",
    "velocity = 20 * np.random.rand(5, 1) - 10\n",
    "pbest = particles\n",
    "\n",
    "gbest = min (particles , key = lambda x : obj(x))\n",
    "print (particles)\n",
    "print (gbest)"
   ]
  },
  {
   "cell_type": "code",
   "execution_count": 59,
   "metadata": {},
   "outputs": [],
   "source": [
    "for i in range (0, 100) :\n",
    "    velocity = w*velocity + c1*r1*(pbest - particles) + c2*r2*(gbest - particles)\n",
    "    particles = particles + velocity\n",
    "    \n",
    "    gbest = min (particles , key = lambda x : obj(x))\n",
    "    less = obj(particles) < obj(pbest)\n",
    "    \n",
    "    pbest = less * particles + np.invert (less) * pbest\n",
    "    \n",
    "    # print (gbest, obj(gbest))"
   ]
  },
  {
   "cell_type": "code",
   "execution_count": 60,
   "metadata": {},
   "outputs": [
    {
     "name": "stdout",
     "output_type": "stream",
     "text": [
      "[[-2.66290481]\n",
      " [ 0.53903318]\n",
      " [-2.66290397]\n",
      " [-2.66290457]\n",
      " [-2.6629046 ]]\n",
      "Global best is at = [-2.6629046]\n"
     ]
    }
   ],
   "source": [
    "print (particles)\n",
    "print (\"Global best is at = \" + str(gbest))"
   ]
  },
  {
   "cell_type": "code",
   "execution_count": null,
   "metadata": {},
   "outputs": [],
   "source": []
  }
 ],
 "metadata": {
  "kernelspec": {
   "display_name": "Python 3",
   "language": "python",
   "name": "python3"
  },
  "language_info": {
   "codemirror_mode": {
    "name": "ipython",
    "version": 3
   },
   "file_extension": ".py",
   "mimetype": "text/x-python",
   "name": "python",
   "nbconvert_exporter": "python",
   "pygments_lexer": "ipython3",
   "version": "3.7.3"
  }
 },
 "nbformat": 4,
 "nbformat_minor": 2
}
