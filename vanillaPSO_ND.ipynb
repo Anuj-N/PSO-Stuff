{
 "cells": [
  {
   "cell_type": "markdown",
   "metadata": {},
   "source": [
    "## Objective Function"
   ]
  },
  {
   "cell_type": "code",
   "execution_count": 59,
   "metadata": {},
   "outputs": [],
   "source": [
    "import numpy as np\n",
    "\n",
    "def sphere (x) :\n",
    "    return np.sum (np.square(x), axis=1)\n",
    "\n",
    "def rastrigin (x) :\n",
    "    A = 10\n",
    "    return A*x.shape[1] + np.sum(np.square(x) - A*np.cos(2*np.pi*x) , axis=1)"
   ]
  },
  {
   "cell_type": "markdown",
   "metadata": {},
   "source": [
    "## Update parameters"
   ]
  },
  {
   "cell_type": "code",
   "execution_count": 63,
   "metadata": {},
   "outputs": [],
   "source": [
    "D = 5\n",
    "Np = 20\n",
    "w = 0.5\n",
    "c1 = 2\n",
    "c2 = 2"
   ]
  },
  {
   "cell_type": "code",
   "execution_count": 64,
   "metadata": {},
   "outputs": [
    {
     "name": "stdout",
     "output_type": "stream",
     "text": [
      "[ 2.77375182 -0.57126827  1.95601292 -0.01706368 -4.04073586]\n"
     ]
    }
   ],
   "source": [
    "particles = 10.24 * np.random.rand(Np, D) - 5.12\n",
    "velocity = np.random.rand(Np, D) \n",
    "pbest = particles\n",
    "obj = sphere\n",
    "\n",
    "gbest = min (particles , key = lambda x : obj(x.reshape(1,-1))[0])\n",
    "print (gbest)"
   ]
  },
  {
   "cell_type": "code",
   "execution_count": 65,
   "metadata": {},
   "outputs": [
    {
     "name": "stdout",
     "output_type": "stream",
     "text": [
      "f[-2.54922431e-09 -1.10019220e-09 -2.39612778e-09  3.56001492e-09\n",
      " -1.73097033e-09] = 0.0\n"
     ]
    }
   ],
   "source": [
    "for i in range (0, 1000) :\n",
    "    r1 = np.random.rand (Np,D)\n",
    "    r2 = np.random.rand (Np,D)\n",
    "    velocity = w*velocity + c1*r1*(pbest - particles) + c2*r2*(gbest - particles)\n",
    "    particles = particles + velocity\n",
    "        \n",
    "    less = obj(particles) < obj(pbest)\n",
    "    pbest[less] = particles[less]\n",
    "    \n",
    "    gbest = min (pbest , key = lambda x : obj(x.reshape(1,-1))[0])\n",
    "    \n",
    "print (\"f\" + str(gbest) + \" = \" + str(obj(gbest.reshape(1,-1))[0]))"
   ]
  }
 ],
 "metadata": {
  "kernelspec": {
   "display_name": "Python 3",
   "language": "python",
   "name": "python3"
  },
  "language_info": {
   "codemirror_mode": {
    "name": "ipython",
    "version": 3
   },
   "file_extension": ".py",
   "mimetype": "text/x-python",
   "name": "python",
   "nbconvert_exporter": "python",
   "pygments_lexer": "ipython3",
   "version": "3.7.9"
  }
 },
 "nbformat": 4,
 "nbformat_minor": 2
}
