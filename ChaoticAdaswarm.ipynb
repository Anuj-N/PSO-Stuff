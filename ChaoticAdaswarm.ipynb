{
 "cells": [
  {
   "cell_type": "markdown",
   "metadata": {},
   "source": [
    "# Imports"
   ]
  },
  {
   "cell_type": "code",
   "execution_count": null,
   "metadata": {},
   "outputs": [],
   "source": [
    "import numpy as np\n",
    "import optimizationFuncs as optim\n",
    "import matplotlib.pyplot as plt\n",
    "\n",
    "import cpso\n",
    "from importlib import reload\n",
    "chaoticPSO = cpso.CPSO_Optimizer"
   ]
  },
  {
   "cell_type": "markdown",
   "metadata": {},
   "source": [
    "## Reload"
   ]
  },
  {
   "cell_type": "code",
   "execution_count": null,
   "metadata": {},
   "outputs": [],
   "source": [
    "cpso = reload(cpso)\n",
    "chaoticPSO = cpso.CPSO_Optimizer"
   ]
  },
  {
   "cell_type": "markdown",
   "metadata": {},
   "source": [
    "## Initialise Swarm"
   ]
  },
  {
   "cell_type": "code",
   "execution_count": null,
   "metadata": {},
   "outputs": [],
   "source": [
    "# Left boundary --> 5 dimensions, and xi=-100 is the left boundary each dimension (i=0,1,2,3,4)\n",
    "llim = np.repeat (-20, 1)\n",
    "\n",
    "# Right boundary --> 5 dimensions, and xi=100 is the right boundary for each dimension (i=0,1,2,3,4)\n",
    "rlim = np.repeat (20, 1)\n",
    "\n",
    "# Shape of the swarm --> 25 particles in 5-D space\n",
    "shape = (25, 1)\n",
    "\n",
    "# Returns the swarm --> Also internally creates a chaotic generator object\n",
    "sw = chaoticPSO.getSwarm (shape, llim, rlim, \"inverse\", \"inverse\", cache=True)\n",
    "# sw = chaotcPSO.getSwarm (shape, llim, rlim)"
   ]
  },
  {
   "cell_type": "markdown",
   "metadata": {},
   "source": [
    "## Supply Objective Function"
   ]
  },
  {
   "cell_type": "code",
   "execution_count": null,
   "metadata": {},
   "outputs": [],
   "source": [
    "# This call creates the PSO optimizer object\n",
    "objective = optim.anuwu\n",
    "truGrad = optim.funcGrads[objective]\n",
    "mizer = sw(objective)"
   ]
  },
  {
   "cell_type": "markdown",
   "metadata": {},
   "source": [
    "## Optimize"
   ]
  },
  {
   "cell_type": "code",
   "execution_count": null,
   "metadata": {},
   "outputs": [],
   "source": [
    "# Returns (optimum, approx-grad-function)\n",
    "opt, approxGrad = mizer.optimize()\n",
    "print (\"\\rOptimum is at f({}) = {}\".format(opt, objective(opt.reshape(1,-1))[0]))\n",
    "print (\"Gradient at optimum = {}\".format(approxGrad(opt)[0]))"
   ]
  },
  {
   "cell_type": "markdown",
   "metadata": {},
   "source": [
    "## Check Grad"
   ]
  },
  {
   "cell_type": "code",
   "execution_count": null,
   "metadata": {},
   "outputs": [],
   "source": [
    "# Perturbing the optimum\n",
    "dopt = opt + 1e-5*np.random.random_sample (opt.shape)\n",
    "print (\"approxGrad({}) = {}\".format(dopt[0], approxGrad(dopt).flatten()[0]))"
   ]
  },
  {
   "cell_type": "markdown",
   "metadata": {},
   "source": [
    "## Plot of 1-D approx gradient vs. true gradient"
   ]
  },
  {
   "cell_type": "code",
   "execution_count": null,
   "metadata": {},
   "outputs": [],
   "source": [
    "assert llim.shape[0] == 1\n",
    "\n",
    "x = (lambda dx:np.linspace(opt-dx, opt+dx, 1000))(min(opt[0]-llim[0], rlim[0]-opt[0])/10)\n",
    "print (\"Objective function info --> \\n{}\".format(objective.__doc__))\n",
    "\n",
    "fig, ax = plt.subplots(1,2, figsize=(15,7.5))\n",
    "ax[0].plot(opt, truGrad(opt.reshape(1,-1)).flatten(), '*r', label=\"Opt\")\n",
    "ax[0].plot(x, truGrad(x), '-b', label=\"True grad\")\n",
    "ax[0].plot(x, -approxGrad(x), '--g', label=\"Approx grad\")\n",
    "ax[1].plot(opt, objective(opt.reshape(1,-1)).flatten(), '*r', label=\"Opt\")\n",
    "ax[1].plot(x, objective(x), 'b', label=\"Objective\")\n",
    "leg = ax[0].legend();"
   ]
  },
  {
   "cell_type": "markdown",
   "metadata": {},
   "source": [
    "## Trajectory for 1-D"
   ]
  },
  {
   "cell_type": "code",
   "execution_count": null,
   "metadata": {},
   "outputs": [],
   "source": [
    "assert llim.shape[0] == 1\n",
    "\n",
    "pcache = chaoticPSO.pcache[..., 0]\n",
    "plt.figure(figsize = (8, 8))\n",
    "eps = 1e-4\n",
    "i = 0\n",
    "while i < shape[0] :\n",
    "    (lambda l=0,r=chaoticPSO.pcache.shape[0] : plt.plot (np.arange(r-l), pcache[l:r,i]))(0,100)\n",
    "    # plt.ylim(opt-eps,opt+eps)\n",
    "    i += 1"
   ]
  }
 ],
 "metadata": {
  "kernelspec": {
   "display_name": "Python 3",
   "language": "python",
   "name": "python3"
  },
  "language_info": {
   "codemirror_mode": {
    "name": "ipython",
    "version": 3
   },
   "file_extension": ".py",
   "mimetype": "text/x-python",
   "name": "python",
   "nbconvert_exporter": "python",
   "pygments_lexer": "ipython3",
   "version": "3.8.3"
  }
 },
 "nbformat": 4,
 "nbformat_minor": 4
}
