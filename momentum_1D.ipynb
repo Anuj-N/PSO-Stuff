{
 "cells": [
  {
   "cell_type": "code",
   "execution_count": 26,
   "metadata": {},
   "outputs": [],
   "source": [
    "import numpy as np\n",
    "\n",
    "def obj (x) :\n",
    "    #return np.square (x) # x^2\n",
    "    #return np.power(x, 4) + np.power(x, 3) - 10*np.square(x) + x + 5 # x^4 + x^3 - 4x^2 + x + 5\n",
    "    return 0.025*np.square(x) + np.sin(x)"
   ]
  },
  {
   "cell_type": "markdown",
   "metadata": {},
   "source": [
    "# Initialise parameters"
   ]
  },
  {
   "cell_type": "code",
   "execution_count": 27,
   "metadata": {},
   "outputs": [],
   "source": [
    "Np = 25\n",
    "w = 0.1\n",
    "c1 = 0.8\n",
    "c2 = 0.9\n",
    "beta = 0.9"
   ]
  },
  {
   "cell_type": "markdown",
   "metadata": {},
   "source": [
    "# Initialise particles and velocities"
   ]
  },
  {
   "cell_type": "code",
   "execution_count": 28,
   "metadata": {},
   "outputs": [],
   "source": [
    "particles = 20 * np.random.rand(Np, 1) - 10\n",
    "velocity = 20 * np.random.rand(Np, 1) - 10\n",
    "momentum = np.zeros (shape=(Np,1))\n",
    "pbest = particles\n",
    "\n",
    "\n",
    "gbest = min (particles , key = lambda x : obj(x))"
   ]
  },
  {
   "cell_type": "markdown",
   "metadata": {},
   "source": [
    "# Optimization loop"
   ]
  },
  {
   "cell_type": "code",
   "execution_count": 31,
   "metadata": {},
   "outputs": [],
   "source": [
    "for i in range (0, 100) :\n",
    "    r1 = np.random.rand (Np, 1)\n",
    "    r2 = np.random.rand (Np, 1)\n",
    "    \n",
    "    momentum = beta*momentum + (1-beta)*velocity\n",
    "    velocity = momentum + c1*r1*(pbest - particles) + c2*r2*(gbest - particles)\n",
    "    particles = particles + velocity\n",
    "    \n",
    "    gbestNew = min (particles , key = lambda x : obj(x))\n",
    "    if (obj(gbestNew) < obj(gbest)) :\n",
    "        gbest = gbestNew\n",
    "        \n",
    "    less = obj(particles) < obj(pbest)\n",
    "    pbest = less * particles + np.invert (less) * pbest\n",
    "    \n",
    "    # print (gbest, obj(gbest))"
   ]
  },
  {
   "cell_type": "code",
   "execution_count": 32,
   "metadata": {},
   "outputs": [
    {
     "name": "stdout",
     "output_type": "stream",
     "text": [
      "Global best is at = [-1.49592991]\n"
     ]
    }
   ],
   "source": [
    "print (\"Global best is at = \" + str(gbest))"
   ]
  }
 ],
 "metadata": {
  "kernelspec": {
   "display_name": "Python 3",
   "language": "python",
   "name": "python3"
  },
  "language_info": {
   "codemirror_mode": {
    "name": "ipython",
    "version": 3
   },
   "file_extension": ".py",
   "mimetype": "text/x-python",
   "name": "python",
   "nbconvert_exporter": "python",
   "pygments_lexer": "ipython3",
   "version": "3.7.3"
  }
 },
 "nbformat": 4,
 "nbformat_minor": 2
}
