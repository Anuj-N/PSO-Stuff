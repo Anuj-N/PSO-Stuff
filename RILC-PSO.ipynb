{
 "cells": [
  {
   "cell_type": "markdown",
   "metadata": {},
   "source": [
    "## Imports"
   ]
  },
  {
   "cell_type": "code",
   "execution_count": 2,
   "metadata": {},
   "outputs": [],
   "source": [
    "import numpy as np\n",
    "import matplotlib.pyplot as plt\n",
    "\n",
    "import benchmark as bench\n",
    "import rpso"
   ]
  },
  {
   "cell_type": "markdown",
   "metadata": {},
   "source": [
    "## Get Objective Function"
   ]
  },
  {
   "cell_type": "code",
   "execution_count": 5,
   "metadata": {},
   "outputs": [],
   "source": [
    "objective = bench.Rastrigin(None, dims=2)\n",
    "llim = objective.llim\n",
    "rlim = objective.rlim\n",
    "func = objective.obj\n",
    "der = objective.objder"
   ]
  },
  {
   "cell_type": "markdown",
   "metadata": {},
   "source": [
    "## RILC-PSO"
   ]
  },
  {
   "cell_type": "code",
   "execution_count": 6,
   "metadata": {},
   "outputs": [
    {
     "name": "stdout",
     "output_type": "stream",
     "text": [
      "Run 1\n",
      "Forward = 176\n",
      "Reverse = 119\n",
      "Run 2\n",
      "Forward = 68\n",
      "Reverse = 125\n",
      "Run 3\n",
      "Forward = 84\n",
      "Reverse = 103\n",
      "Run 4\n",
      "Forward = 240\n",
      "Reverse = 104\n",
      "Run 5\n",
      "Forward = 621\n",
      "\n",
      "Optimum is at f([3.10642410e-09 7.95205283e-10]) = 0.0\n",
      "Gradient at optimum = -0.0\n"
     ]
    }
   ],
   "source": [
    "mizer = rpso.RILC_PSO(func, llim, rlim, 25)\n",
    "retpack = mizer.optimize(print_iters=True)\n",
    "opt, approxGrad = retpack['rets']\n",
    "print (\"\\rOptimum is at f({}) = {}\".format(opt, func(opt.reshape(1,-1))[0]))\n",
    "print (\"Gradient at optimum = {}\".format(approxGrad(opt)[0]))"
   ]
  }
 ],
 "metadata": {
  "kernelspec": {
   "display_name": "Python 3",
   "language": "python",
   "name": "python3"
  },
  "language_info": {
   "codemirror_mode": {
    "name": "ipython",
    "version": 3
   },
   "file_extension": ".py",
   "mimetype": "text/x-python",
   "name": "python",
   "nbconvert_exporter": "python",
   "pygments_lexer": "ipython3",
   "version": "3.8.3"
  }
 },
 "nbformat": 4,
 "nbformat_minor": 4
}
