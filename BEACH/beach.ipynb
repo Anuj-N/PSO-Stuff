{
 "cells": [
  {
   "cell_type": "code",
   "execution_count": null,
   "metadata": {},
   "outputs": [],
   "source": [
    "import numpy as np\n",
    "import matplotlib.pyplot as plt"
   ]
  },
  {
   "cell_type": "code",
   "execution_count": null,
   "metadata": {},
   "outputs": [],
   "source": [
    "class Beach () :\n",
    "    \n",
    "    xcache = []\n",
    "    bcache = []\n",
    "    \n",
    "    roblim = np.exp(-4)\n",
    "    logistic = lambda x : 4*x*(1-x)\n",
    "    def beach (x, b) :\n",
    "        if b == 1 :\n",
    "            return 4*x*(1-x)\n",
    "        else :\n",
    "            return (b - x*np.power(b,x) - (1-x)*np.power(b, 1-x))/(b - np.sqrt(b))\n",
    "    \n",
    "    def __seedb__ (self) :\n",
    "        \"\"\" Seeds the initial b parameter of BEACH until it\n",
    "        is legal \"\"\"\n",
    "        \n",
    "        b = Beach.roblim + np.random.rand()*(self.lim - Beach.roblim)\n",
    "        while b == Beach.roblim + 0.75*(self.lim - Beach.roblim) :\n",
    "            b = Beach.roblim + np.random.rand()*(self.lim - Beach.roblim)\n",
    "            \n",
    "        self.b = b\n",
    "    \n",
    "    def __init__ (self, x, R=20, lim=10000) :\n",
    "        self.x = x\n",
    "        self.R = R\n",
    "        self.lim = 10000\n",
    "        self.__seedb__()\n",
    "        \n",
    "    def getrand (self) :\n",
    "        \"\"\" Returns a random number after iterating with \n",
    "        the BEACH algorithm \"\"\"\n",
    "        \n",
    "        Beach.xcache.append(self.x)\n",
    "        Beach.bcache.append(self.b)\n",
    "\n",
    "        ret = self.x\n",
    "        for _ in range(self.R) :\n",
    "            self.x = Beach.beach(self.x, self.b)\n",
    "            \n",
    "        self.b = Beach.roblim + \\\n",
    "                Beach.logistic((self.b - Beach.roblim)/(self.lim - Beach.roblim))*(self.lim - Beach.roblim)\n",
    "        if self.b <= self.lim :\n",
    "            self.b = self.x if self.x >= self.lim else self.lim\n",
    "            \n",
    "        return ret"
   ]
  },
  {
   "cell_type": "code",
   "execution_count": null,
   "metadata": {},
   "outputs": [],
   "source": [
    "obj = Beach(r:=np.random.rand())\n",
    "print (r)"
   ]
  },
  {
   "cell_type": "code",
   "execution_count": null,
   "metadata": {},
   "outputs": [],
   "source": [
    "lst = [obj.getrand() for _ in range(1000)]"
   ]
  },
  {
   "cell_type": "code",
   "execution_count": null,
   "metadata": {},
   "outputs": [],
   "source": [
    "plt.hist (lst, bins=100)\n",
    "pass"
   ]
  },
  {
   "cell_type": "code",
   "execution_count": null,
   "metadata": {},
   "outputs": [],
   "source": [
    "plt.hist (np.random.random_sample((1000,)), bins=100)\n",
    "pass"
   ]
  }
 ],
 "metadata": {
  "kernelspec": {
   "display_name": "Python 3",
   "language": "python",
   "name": "python3"
  },
  "language_info": {
   "codemirror_mode": {
    "name": "ipython",
    "version": 3
   },
   "file_extension": ".py",
   "mimetype": "text/x-python",
   "name": "python",
   "nbconvert_exporter": "python",
   "pygments_lexer": "ipython3",
   "version": "3.8.3"
  }
 },
 "nbformat": 4,
 "nbformat_minor": 4
}
