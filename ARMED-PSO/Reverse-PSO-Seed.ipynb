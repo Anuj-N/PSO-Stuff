{
 "cells": [
  {
   "cell_type": "markdown",
   "metadata": {},
   "source": [
    "## Imports"
   ]
  },
  {
   "cell_type": "code",
   "execution_count": 1,
   "metadata": {},
   "outputs": [],
   "source": [
    "import sys\n",
    "from pathlib import Path\n",
    "sys.path.append(str(Path('.').absolute().parent))\n",
    "\n",
    "import numpy as np\n",
    "import matplotlib.pyplot as plt\n",
    "import optimizationFuncs as optim"
   ]
  },
  {
   "cell_type": "markdown",
   "metadata": {},
   "source": [
    "## Derivative Approximation"
   ]
  },
  {
   "cell_type": "code",
   "execution_count": 2,
   "metadata": {},
   "outputs": [],
   "source": [
    "def objder (x, func) :\n",
    "    h = 1e-8\n",
    "    disps = []\n",
    "    for i in range(x.shape[0]) :\n",
    "        disp = np.copy(x)\n",
    "        disp[i] += h\n",
    "        disps.append(disp)\n",
    "        \n",
    "    return np.array([\n",
    "        (func(d.reshape(1, -1)) - func(x.reshape(1, -1)))[0]/h\n",
    "        for d in disps\n",
    "    ])"
   ]
  },
  {
   "cell_type": "markdown",
   "metadata": {},
   "source": [
    "## Adam"
   ]
  },
  {
   "cell_type": "code",
   "execution_count": 3,
   "metadata": {},
   "outputs": [],
   "source": [
    "def adam(x, grad, llim, rlim, max_iters=1000,\n",
    "         step_size=0.001, b1=0.9, b2=0.999, eps=10**-8):\n",
    "    m = np.zeros(len(x))\n",
    "    v = np.zeros(len(x))\n",
    "    for i in range(max_iters) :\n",
    "        g = grad(x)\n",
    "        gt = (np.abs(g) < 1e-4).all()\n",
    "        \n",
    "        if gt :\n",
    "            return x, gt, 'proper'\n",
    "        '''\n",
    "        if i == max_iters :\n",
    "            return x, gt, 'max_iter'\n",
    "        elif gt :\n",
    "            return x, gt, 'proper'\n",
    "        '''\n",
    "        \n",
    "        m = (1 - b1)*g + b1*m \n",
    "        v = (1 - b2)*(g**2) + b2*v\n",
    "        mhat = m/(1 - b1**(i + 1))\n",
    "        vhat = v/(1 - b2**(i + 1))\n",
    "        \n",
    "        xsave = x\n",
    "        x = x - step_size*mhat/(np.sqrt(vhat) + eps)\n",
    "        if not np.logical_and(llim <= x, x <= rlim).all() :\n",
    "            return xsave, gt, 'lim_violated'\n",
    "        \n",
    "    return x, gt, 'max_iter'"
   ]
  },
  {
   "cell_type": "markdown",
   "metadata": {},
   "source": [
    "## Iterated Adam"
   ]
  },
  {
   "cell_type": "code",
   "execution_count": 4,
   "metadata": {},
   "outputs": [],
   "source": [
    "no_seeds = 1000\n",
    "dims = 2\n",
    "llim = np.repeat (-2, dims)\n",
    "rlim = np.repeat (2, dims)\n",
    "\n",
    "seeds = np.array([l + (r-l)*np.random.rand(no_seeds, dims).transpose()[ind] \\\n",
    "                              for ind, l, r in zip(range(0,dims), llim, rlim)]).transpose()\n",
    "func = optim.goldstein\n",
    "seed_mins = np.array([\n",
    "    a[0] for s in seeds\n",
    "    if (a:=adam(s, lambda x : objder(x, func), llim, rlim))[2] == 'proper' \n",
    "        or a[1]\n",
    "])\n",
    "\n",
    "seed_ders = np.array([\n",
    "    objder(sm, func) for sm in seed_mins\n",
    "])"
   ]
  },
  {
   "cell_type": "markdown",
   "metadata": {},
   "source": [
    "## Clustering the Seeds"
   ]
  },
  {
   "cell_type": "code",
   "execution_count": null,
   "metadata": {},
   "outputs": [],
   "source": [
    "clusts = [seed_mins[0]]\n",
    "for smin in seed_mins[1:] :\n",
    "    if not (np.abs(objder(smin, func)) < 1e-3).all() :\n",
    "        continue\n",
    "    \n",
    "    chk = np.array([\n",
    "        (np.abs(smin - sm) < 1e-3).all()\n",
    "        for sm in clusts\n",
    "    ])\n",
    "    \n",
    "    if not chk.any() :\n",
    "        clusts.append(smin)\n",
    "\n",
    "clusts = np.array(clusts)\n",
    "clust_ders = np.array([\n",
    "    objder(sm, func) for sm in clusts\n",
    "])\n",
    "\n",
    "print(\"Number of seeds = {}\".format(len(seed_mins)))\n",
    "print(\"Number of clusters = {}\".format(len(clusts)))"
   ]
  },
  {
   "cell_type": "markdown",
   "metadata": {},
   "source": [
    "## Finding foreign minima"
   ]
  },
  {
   "cell_type": "code",
   "execution_count": null,
   "metadata": {},
   "outputs": [],
   "source": [
    "def get_foreign_clust (clusts, i) :\n",
    "    clust = clusts[i]\n",
    "    dims = clust.shape[0]\n",
    "    dx = 1e-3*(np.random.rand(dims) - 0.5)\n",
    "    nx = dx / np.linalg.norm(dx)\n",
    "    diff = clusts - clust\n",
    "\n",
    "    perp_strict = np.array([\n",
    "        np.inf if not (nx*d).all() or i == j else np.sum(np.square(d)*(1-np.square(nx))) \n",
    "        for j, d in enumerate(clusts - clust)\n",
    "    ])\n",
    "\n",
    "    perp = np.array([\n",
    "        np.inf if i == j else np.sum(np.square(d)*(1-np.square(nx))) \n",
    "        for j, d in enumerate(clusts - clust)\n",
    "    ])\n",
    "    \n",
    "    perp_list = perp if (perp_strict == np.inf).all() else perp_strict\n",
    "    perp_len = len(perp_list)\n",
    "    asc_perp_ind = sorted(list(range(perp_len)), key = lambda x : perp_list[x])\n",
    "    first_inf = np.argmin(\n",
    "        np.where(np.array(list(map(lambda x : perp_list[x], asc_perp_ind))) == np.inf, \n",
    "                 range(-perp_len, 0), \n",
    "                 range(perp_len))\n",
    "    )\n",
    "    \n",
    "    return clust + dx, np.copy(clusts[np.random.choice(asc_perp_ind[:first_inf])])\n",
    "\n",
    "def clust_foreign (clusts, i, noParticles) :\n",
    "    seeds_foreigns = np.array([\n",
    "        get_foreign_clust(clusts, i) for _ in range(noParticles)\n",
    "    ])\n",
    "    \n",
    "    return seeds_foreigns[:,0], seeds_foreigns[:,1]"
   ]
  },
  {
   "cell_type": "markdown",
   "metadata": {},
   "source": [
    "## Minimum along unit vector"
   ]
  },
  {
   "cell_type": "code",
   "execution_count": null,
   "metadata": {},
   "outputs": [],
   "source": [
    "# Results are not satisfactory\n",
    "\n",
    "def get_foreign_dirmin (clust) :\n",
    "    dims = clust.shape[0]\n",
    "    dx = 1e-3*(np.random.rand(dims) - 0.5)\n",
    "    nx = dx / np.linalg.norm(dx)\n",
    "\n",
    "    end = np.where (nx < 0, llim, rlim)\n",
    "    diff = np.abs(end - clust)\n",
    "    min_k = np.argmin(diff)\n",
    "    seedlim = clust + diff[min_k]/nx[min_k]*nx\n",
    "\n",
    "    linD = np.array([np.linspace(a, b, 1000)[500:] for a, b in zip(clust, seedlim)]).transpose()\n",
    "    lin_func = np.array([\n",
    "        func(x.reshape(1,-1))[0] for x in linD\n",
    "    ])\n",
    "    min_lin = np.argmin(lin_func)\n",
    "\n",
    "    return clust + dx, linD[min_lin]\n",
    "\n",
    "def dirmin_foreign (clust, noParticles) :\n",
    "    seeds_foreigns = np.array([\n",
    "        get_foreign_dirmin(clust) for _ in range(noParticles)\n",
    "    ])\n",
    "    \n",
    "    return seeds_foreigns[:,0], seeds_foreigns[:,1]"
   ]
  },
  {
   "cell_type": "markdown",
   "metadata": {},
   "source": [
    "## Reverse-PSO initialise"
   ]
  },
  {
   "cell_type": "code",
   "execution_count": null,
   "metadata": {},
   "outputs": [],
   "source": [
    "noParticles = 50\n",
    "ci = 2\n",
    "noIters = 100\n",
    "w, c1, c2 = 0.7, 2, 2\n",
    "vmax = 1e-1*np.ones_like(llim).reshape(1, -1)\n",
    "\n",
    "xs1, fs1 = clust_foreign(clusts, ci, noParticles//2)\n",
    "xs2, fs2 = dirmin_foreign(clusts[ci], noParticles - noParticles//2)\n",
    "xs, fs = np.concatenate((xs1, xs2)), np.concatenate((fs1, fs2))\n",
    "vs = 1e-3*np.random.rand(noParticles, dims)\n",
    "\n",
    "pbest = np.copy(xs)\n",
    "gbest = min(pbest, key = lambda x : func(x.reshape(1, -1))[0])\n",
    "\n",
    "xsave = np.copy(xs)\n",
    "vsave = np.copy(vs)"
   ]
  },
  {
   "cell_type": "markdown",
   "metadata": {},
   "source": [
    "## Reverse-PSO"
   ]
  },
  {
   "cell_type": "code",
   "execution_count": null,
   "metadata": {},
   "outputs": [],
   "source": [
    "def vclip (velocity, vmax) :\n",
    "    velocity /= (lambda x:np.where(x < 1, 1, x))\\\n",
    "                    (np.max(np.abs(velocity)/(vmax), axis=1, keepdims=True))\n",
    "    return velocity\n",
    "\n",
    "def ipcd (particles, velocity, llim, rlim, alpha=1.2) :\n",
    "    part = particles + velocity\n",
    "    leftvio = part < llim\n",
    "    rightvio = part > rlim\n",
    "    leftRight = np.logical_or(part < llim, part > rlim)\n",
    "    vio = np.sum (leftRight, axis=1).astype(bool)\n",
    "    viosum = np.sum(vio)\n",
    "    if viosum == 0 :\n",
    "        return part, velocity\n",
    "    leftvio = leftvio[vio]\n",
    "    rightvio = rightvio[vio]\n",
    "    partV = part[vio]\n",
    "    particleV = particles[vio]\n",
    "    limvec = np.copy(partV)\n",
    "    limvec[leftvio] = np.tile(llim, (viosum, 1))[leftvio]\n",
    "    limvec[rightvio] = np.tile(rlim, (viosum, 1))[rightvio]\n",
    "    diff = partV - particleV\n",
    "    Xnot = np.sqrt (np.sum (np.square(diff), axis=1, keepdims=True))\n",
    "    kvec = np.min (np.where (diff == 0, 1, (limvec - particleV)/diff), axis=1, keepdims=True)\n",
    "    bvec = particleV + np.where (diff == 0, 0, kvec*diff)\n",
    "    dvec = np.sqrt (np.sum (np.square(partV - bvec), axis=1, keepdims=True))\n",
    "    Xpp = dvec*(1 + alpha*np.tan(\\\n",
    "            np.random.rand(viosum).reshape(-1,1)*np.arctan((Xnot - dvec)/(alpha * dvec))))\n",
    "    boundk = (Xnot - Xpp)/Xnot\n",
    "    part[vio] = particleV + np.where (diff == 0, 0, boundk*diff)\n",
    "    velocity[leftRight] *= -1\n",
    "    return part, velocity\n",
    "\n",
    "noIter = 100\n",
    "d1 = 0\n",
    "d2 = 1\n",
    "centre = np.copy(np.array([clusts[ci,d1], clusts[ci,d2]]))\n",
    "print (centre)\n",
    "\n",
    "xs = np.copy(xsave)\n",
    "vs = np.copy(vsave)\n",
    "step = False\n",
    "min_iters = 100\n",
    "max_iters = 1000\n",
    "for i in range(max_iters) :\n",
    "    if step :\n",
    "        plt.plot (centre[0], centre[1], 'ro')\n",
    "        plt.plot (xs[:,d1], xs[:,d2], 'bo', markersize=3)\n",
    "        plt.xlim(xc - 2*xw, xc + 2*xw)\n",
    "        plt.ylim(yc - 2*yw, yc + 2*yw)\n",
    "        plt.pause(0.0001)\n",
    "        input()\n",
    "    \n",
    "    r1s = np.random.rand(noParticles, dims)\n",
    "    r2s = np.random.rand(noParticles, dims)\n",
    "    mats = np.array([\n",
    "        [[1, 1, 0],\n",
    "        [-(c1*r1s[p,d] + c2*r2s[p,d]), w, c1*r1s[p,d]*fs[p,d] + c2*r2s[p,d]*gbest[d]],\n",
    "        [0, 0, 1]] \n",
    "        for p in range(noParticles) for d in range(dims)\n",
    "    ]).reshape(noParticles, dims, 3, 3)\n",
    "\n",
    "    vecs = np.array([\n",
    "        np.dot(np.linalg.inv(mats[p,d]), np.array([xs[p,d], vs[p,d], 1]))\n",
    "        for p in range(noParticles) for d in range(dims)\n",
    "    ]).reshape(noParticles, dims, 3)\n",
    "    vs = vecs[...,1]\n",
    "    \n",
    "    vs = vclip(vs, vmax)\n",
    "    xs, vs = ipcd(xs, -vs, llim, rlim)\n",
    "    \n",
    "    less = func(xs) <= func(pbest)\n",
    "    xs[less] = np.copy(pbest[less])\n",
    "    more = np.invert(less)\n",
    "    pbest[more] = np.copy(xs[more])\n",
    "    gbest = min(pbest, key = lambda x : func(x.reshape(1, -1))[0])\n",
    "    if i >= min_iters and less.all() :\n",
    "        break\n",
    "        \n",
    "    i += 1\n",
    "        \n",
    "print (\"No of iterations = {}\".format(i))"
   ]
  },
  {
   "cell_type": "code",
   "execution_count": null,
   "metadata": {},
   "outputs": [],
   "source": [
    "plt.plot (centre[0], centre[1], 'ro')\n",
    "plt.plot (xs[:,d1], xs[:,d2], 'bo', markersize=3)\n",
    "\n",
    "d1l, d1r = np.min(xs[:,d1]), np.max(xs[:,d1])\n",
    "xc = (d1l + d1r)/2\n",
    "xw = (d1r - d1l)\n",
    "\n",
    "d2l, dr2 = np.min(xs[:,d2]), np.max(xs[:,d2])\n",
    "yc = (d2l + d2r)/2\n",
    "yw = (d2r - d2l)\n",
    "\n",
    "plt.xlim(xc - 2*xw, xc + 2*xw)\n",
    "plt.ylim(yc - 2*yw, yc + 2*yw)\n",
    "pass"
   ]
  }
 ],
 "metadata": {
  "kernelspec": {
   "display_name": "Python 3",
   "language": "python",
   "name": "python3"
  },
  "language_info": {
   "codemirror_mode": {
    "name": "ipython",
    "version": 3
   },
   "file_extension": ".py",
   "mimetype": "text/x-python",
   "name": "python",
   "nbconvert_exporter": "python",
   "pygments_lexer": "ipython3",
   "version": "3.8.3"
  }
 },
 "nbformat": 4,
 "nbformat_minor": 4
}
