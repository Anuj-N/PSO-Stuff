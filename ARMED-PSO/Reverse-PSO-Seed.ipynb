{
 "cells": [
  {
   "cell_type": "markdown",
   "metadata": {},
   "source": [
    "## Imports"
   ]
  },
  {
   "cell_type": "code",
   "execution_count": null,
   "metadata": {},
   "outputs": [],
   "source": [
    "import sys\n",
    "from pathlib import Path\n",
    "sys.path.append(str(Path('.').absolute().parent))\n",
    "\n",
    "import numpy as np\n",
    "import matplotlib.pyplot as plt\n",
    "import optimizationFuncs as optim"
   ]
  },
  {
   "cell_type": "markdown",
   "metadata": {},
   "source": [
    "## Derivative Approximation"
   ]
  },
  {
   "cell_type": "code",
   "execution_count": null,
   "metadata": {},
   "outputs": [],
   "source": [
    "def objder (x, func) :\n",
    "    h = 1e-8\n",
    "    disps = []\n",
    "    for i in range(x.shape[0]) :\n",
    "        disp = np.copy(x)\n",
    "        disp[i] += h\n",
    "        disps.append(disp)\n",
    "        \n",
    "    return np.array([\n",
    "        (func(d.reshape(1, -1)) - func(x.reshape(1, -1)))[0]/h\n",
    "        for d in disps\n",
    "    ])"
   ]
  },
  {
   "cell_type": "markdown",
   "metadata": {},
   "source": [
    "## Plain Gradient Descent"
   ]
  },
  {
   "cell_type": "code",
   "execution_count": null,
   "metadata": {},
   "outputs": [],
   "source": [
    "def grad_desc (x, func, iters=100) :\n",
    "    alpha = 1e-7\n",
    "    for _ in range(1000) :\n",
    "        x -= alpha*objder(x, func)\n",
    "    \n",
    "    return x"
   ]
  },
  {
   "cell_type": "markdown",
   "metadata": {},
   "source": [
    "## Adam"
   ]
  },
  {
   "cell_type": "code",
   "execution_count": null,
   "metadata": {},
   "outputs": [],
   "source": [
    "def adam(x, grad, llim, rlim, min_iters=100, max_iters=10000,\n",
    "         step_size=0.001, b1=0.9, b2=0.999, eps=10**-8):\n",
    "    m = np.zeros(len(x))\n",
    "    v = np.zeros(len(x))\n",
    "    i = 0\n",
    "    while True :\n",
    "        g = grad(x)\n",
    "        gt = (np.abs(g) < 1e-5).all()\n",
    "        if i == max_iters :\n",
    "            return x, gt, 'max_iter'\n",
    "        elif i >= min_iters and gt :\n",
    "            return x, gt, 'proper'\n",
    "        \n",
    "        m = (1 - b1) * g      + b1 * m \n",
    "        v = (1 - b2) * (g**2) + b2 * v\n",
    "        mhat = m / (1 - b1**(i + 1))\n",
    "        vhat = v / (1 - b2**(i + 1))\n",
    "        \n",
    "        xsave = x\n",
    "        x = x - step_size*mhat/(np.sqrt(vhat) + eps)\n",
    "        if not np.logical_and(llim <= x, x <= rlim).all() :\n",
    "            return xsave, gt, 'lim_violated'\n",
    "        \n",
    "        i += 1"
   ]
  },
  {
   "cell_type": "markdown",
   "metadata": {},
   "source": [
    "## Test with Seeds"
   ]
  },
  {
   "cell_type": "code",
   "execution_count": null,
   "metadata": {},
   "outputs": [],
   "source": [
    "no_seeds = 100\n",
    "dims = 5\n",
    "llim = np.repeat (0, dims)\n",
    "rlim = np.repeat (10, dims)\n",
    "\n",
    "seeds = np.array([l + (r-l)*np.random.rand(no_seeds, dims).transpose()[ind] \\\n",
    "                              for ind, l, r in zip(range(0,dims), llim, rlim)]).transpose()\n",
    "func = optim.rastrigin\n",
    "seed_mins = np.array([\n",
    "    a[0] for s in seeds\n",
    "    if (a:=adam(s, lambda x : objder(x, func), llim, rlim))[2] == 'proper' \n",
    "        or a[1]\n",
    "])\n",
    "\n",
    "min_ders = np.array([\n",
    "    objder(sm, func) for sm in seed_mins\n",
    "])"
   ]
  },
  {
   "cell_type": "markdown",
   "metadata": {},
   "source": [
    "## Clustering the Seeds"
   ]
  },
  {
   "cell_type": "code",
   "execution_count": null,
   "metadata": {},
   "outputs": [],
   "source": [
    "clusts = [seed_mins[0]]\n",
    "for smin in seed_mins[1:] :\n",
    "    if not (np.abs(objder(smin, func)) < 1e-4).all() :\n",
    "        continue\n",
    "    \n",
    "    chk = np.array([\n",
    "        (np.abs(smin - sm) < 1e-4).all()\n",
    "        for sm in clusts\n",
    "    ])\n",
    "    \n",
    "    if not chk.any() :\n",
    "        clusts.append(smin)\n",
    "\n",
    "clusts = np.array(clusts)\n",
    "print (len(clusts), len(seed_mins))"
   ]
  },
  {
   "cell_type": "markdown",
   "metadata": {},
   "source": [
    "## Finding foreign minima"
   ]
  },
  {
   "cell_type": "code",
   "execution_count": null,
   "metadata": {},
   "outputs": [],
   "source": [
    "i = 1\n",
    "revseed = clusts[i]\n",
    "x = np.random.rand(dims) - 0.5\n",
    "nx = x / np.linalg.norm(x)\n",
    "\n",
    "diff = clusts - revseed\n",
    "\n",
    "perp_strict = np.array([\n",
    "    np.inf if not (nx*d).all() or i == j else np.sum(np.square(d)*(1-np.square(nx))) \n",
    "    for j, d in enumerate(clusts - revseed)\n",
    "])\n",
    "\n",
    "perp = np.array([\n",
    "    np.inf if i == j else np.sum(np.square(d)*(1-np.square(nx))) \n",
    "    for j, d in enumerate(clusts - revseed)\n",
    "])\n",
    "\n",
    "print (revseed)\n",
    "if (perp_strict == np.inf).all() :\n",
    "    print (clusts[np.argmin(perp)])\n",
    "else :\n",
    "    print (clusts[np.argmin(perp_strict)])"
   ]
  }
 ],
 "metadata": {
  "kernelspec": {
   "display_name": "Python 3",
   "language": "python",
   "name": "python3"
  },
  "language_info": {
   "codemirror_mode": {
    "name": "ipython",
    "version": 3
   },
   "file_extension": ".py",
   "mimetype": "text/x-python",
   "name": "python",
   "nbconvert_exporter": "python",
   "pygments_lexer": "ipython3",
   "version": "3.8.3"
  }
 },
 "nbformat": 4,
 "nbformat_minor": 4
}
