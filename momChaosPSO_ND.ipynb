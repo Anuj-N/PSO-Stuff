{
 "cells": [
  {
   "cell_type": "code",
   "execution_count": null,
   "metadata": {},
   "outputs": [],
   "source": [
    "import numpy as np\n",
    "\n",
    "def sphere (x) :\n",
    "    return np.sum (np.square(x), axis=1)\n",
    "\n",
    "def rastrigin (x) :\n",
    "    A = 10\n",
    "    return A*x.shape[1] + np.sum(np.square(x) - A*np.cos(2*np.pi*x) , axis=1)"
   ]
  },
  {
   "cell_type": "code",
   "execution_count": null,
   "metadata": {},
   "outputs": [],
   "source": [
    "def logisticMap (x, r) :\n",
    "    return r * x * (1 - x) \n",
    "\n",
    "def tentMap (x, mu) :\n",
    "    if x <= mu :\n",
    "        return x/mu\n",
    "    else :\n",
    "        return (1-x)/(1-mu)\n",
    "\n",
    "def lorenzFlow (initCond, param, t_end, length) :\n",
    "    from scipy.integrate import odeint\n",
    "    def lorenz (X, t, sigma, beta, rho) :\n",
    "        x, y, z = X\n",
    "        dXdt = [sigma*(y - x), x*(rho - z) - y, x*y - beta*z]\n",
    "        return dXdt\n",
    "\n",
    "    X0 = initCond\n",
    "    t = np.linspace (0, t_end, length)\n",
    "    return odeint (lorenz, X0, t, args = param)\n",
    "\n",
    "class chaosGenerator :    \n",
    "    def setLorenz (self, sol) :\n",
    "        self.x0 = sol[-1,0]\n",
    "        self.y0 = sol[-1,1]\n",
    "        self.z0 = sol[-1,2]\n",
    "    \n",
    "    def __init__ (self, cmap) :\n",
    "        \n",
    "        self.cmap = cmap\n",
    "        \n",
    "        if cmap[0] == \"logistic\" or cmap[0] == \"tent\" :\n",
    "            self.x0 = 0.01\n",
    "            iterate = 1000 + int(np.random.rand() * 10000)\n",
    "            funcMap = logisticMap if cmap[0] == \"logistic\" else tentMap\n",
    "            for i in range (1, iterate) :\n",
    "                self.x0 = funcMap (self.x0, cmap[1])\n",
    "                \n",
    "        elif cmap[0] == \"lorenz\" :\n",
    "            self.x0 = np.random.rand ()\n",
    "            self.y0 = np.random.rand ()\n",
    "            self.z0 = np.random.rand ()\n",
    "            sol = lorenzFlow ([self.x0, self.y0, self.z0], cmap[1], 1000, 100000)\n",
    "            self.xmin = min(sol[:,0])\n",
    "            self.xmax = max(sol[:,0])\n",
    "            self.setLorenz (sol)\n",
    "                \n",
    "    def getTimeSeries (self, length) :\n",
    "        if self.cmap[0] == \"logistic\" or self.cmap[0] == \"tent\" :\n",
    "            n = np.arange (1, length + 1)\n",
    "            xs = [self.x0]\n",
    "            x = self.x0\n",
    "            \n",
    "            funcMap = logisticMap if cmap[0] == \"logistic\" else tentMap\n",
    "            for i in range (1, length) :\n",
    "                x = funcMap (x, self.cmap[1])\n",
    "                xs.append (x)\n",
    "\n",
    "            xs = np.array (xs)\n",
    "            self.x0 = xs[-1]\n",
    "            xs = np.reshape (xs, (-1, 1))\n",
    "            \n",
    "        elif self.cmap[0] == \"lorenz\" :\n",
    "            sol = lorenzFlow ([self.x0, self.y0, self.z0], cmap[1], length, length * 100)\n",
    "            inds = np.arange (0, length*100, 100).astype (int)\n",
    "            xs = np.reshape (sol[:,0][inds], (-1, 1))\n",
    "            xs = (xs - self.xmin)/(self.xmax - self.xmin)\n",
    "            \n",
    "            self.setLorenz (sol)\n",
    "            \n",
    "        return xs\n",
    "\n",
    "    def getChaosPoints (self, shape) :\n",
    "        prod = 1\n",
    "        for i in range(0, len(shape)) :\n",
    "            prod *= shape[i]\n",
    "            \n",
    "        return self.getTimeSeries(prod).reshape(shape)"
   ]
  },
  {
   "cell_type": "markdown",
   "metadata": {},
   "source": [
    "# Initialise parameters"
   ]
  },
  {
   "cell_type": "code",
   "execution_count": null,
   "metadata": {},
   "outputs": [],
   "source": [
    "D = 5\n",
    "Np = 25\n",
    "w = 0.1\n",
    "c1 = 2\n",
    "c2 = 2\n",
    "beta = 0.9"
   ]
  },
  {
   "cell_type": "markdown",
   "metadata": {},
   "source": [
    "# Initialise particles and velocities"
   ]
  },
  {
   "cell_type": "code",
   "execution_count": null,
   "metadata": {},
   "outputs": [],
   "source": [
    "cmap = [\"logistic\", 4]\n",
    "chaosMan = chaosGenerator (cmap)\n",
    "\n",
    "particles = 20 * chaosMan.getChaosPoints ((Np, D)) - 10\n",
    "velocity = chaosMan.getChaosPoints ((Np, D))\n",
    "momentum = np.zeros (shape=(Np,D))\n",
    "pbest = particles\n",
    "obj = rastrigin\n",
    "\n",
    "gbest = min (particles , key = lambda x : obj(x.reshape(1,-1))[0])"
   ]
  },
  {
   "cell_type": "markdown",
   "metadata": {},
   "source": [
    "# Optimization loop"
   ]
  },
  {
   "cell_type": "code",
   "execution_count": null,
   "metadata": {},
   "outputs": [],
   "source": [
    "for i in range (0, 500) :\n",
    "    r1 = chaosMan.getChaosPoints ((Np, D))\n",
    "    r2 = chaosMan.getChaosPoints ((Np, D))\n",
    "    \n",
    "    momentum = beta*momentum + (1-beta)*velocity\n",
    "    velocity = momentum + c1*r1*(pbest - particles) + c2*r2*(gbest - particles)\n",
    "    particles = particles + velocity\n",
    "        \n",
    "    less = obj(particles) < obj(pbest)\n",
    "    pbest[less] = particles[less]\n",
    "    gbest = min (pbest , key = lambda x : obj(x.reshape(1,-1))[0])\n",
    "    \n",
    "print (\"f\" + str(gbest) + \" = \" + str(obj(gbest.reshape(1,-1))[0]))"
   ]
  }
 ],
 "metadata": {
  "kernelspec": {
   "display_name": "Python 3",
   "language": "python",
   "name": "python3"
  },
  "language_info": {
   "codemirror_mode": {
    "name": "ipython",
    "version": 3
   },
   "file_extension": ".py",
   "mimetype": "text/x-python",
   "name": "python",
   "nbconvert_exporter": "python",
   "pygments_lexer": "ipython3",
   "version": "3.8.3"
  }
 },
 "nbformat": 4,
 "nbformat_minor": 2
}
