{
 "cells": [
  {
   "cell_type": "markdown",
   "metadata": {},
   "source": [
    "## Initialisation"
   ]
  },
  {
   "cell_type": "code",
   "execution_count": null,
   "metadata": {},
   "outputs": [],
   "source": [
    "import numpy as np\n",
    "import optimizationFuncs as optim\n",
    "import matplotlib.pyplot as plt\n",
    "from importlib import reload\n",
    "\n",
    "import cpso\n",
    "import chaosGen as cg\n",
    "CPSO_Optimizer = cpso.CPSO_Optimizer"
   ]
  },
  {
   "cell_type": "markdown",
   "metadata": {},
   "source": [
    "## Reload if necessary"
   ]
  },
  {
   "cell_type": "code",
   "execution_count": null,
   "metadata": {},
   "outputs": [],
   "source": [
    "cpso = reload(cpso)\n",
    "CPSO_Optimizer = cpso.CPSO_Optimizer"
   ]
  },
  {
   "cell_type": "markdown",
   "metadata": {},
   "source": [
    "## Initialising CPSO object"
   ]
  },
  {
   "cell_type": "code",
   "execution_count": null,
   "metadata": {},
   "outputs": [],
   "source": [
    "# Number of dimensions\n",
    "dims = 1\n",
    "\n",
    "# Left boundary --> 5 dimensions, and xi=-100 is the left boundary each dimension (i=0,1,2,3,4)\n",
    "llim = np.repeat (-20, dims)\n",
    "\n",
    "# Right boundary --> 5 dimensions, and xi=100 is the right boundary for each dimension (i=0,1,2,3,4)\n",
    "rlim = np.repeat (20, dims)\n",
    "\n",
    "# Shape of the swarm --> 25 particles in 5-D space\n",
    "shape = (25, dims)\n",
    "\n",
    "# Chaotic generators\n",
    "initgen = cg.InverseLE(shape).chaosPoints\n",
    "# randgen = cg.InverseLE(shape, le=1.5).chaosPoints\n",
    "randgen = lambda x : np.random.random_sample(shape)\n",
    "\n",
    "# Initialise optimizer object\n",
    "func = optim.anuwu\n",
    "mizer = cpso.CPSO_Optimizer(func, llim, rlim, initgen, randgen, cache=True)"
   ]
  },
  {
   "cell_type": "markdown",
   "metadata": {},
   "source": [
    "## Optimize"
   ]
  },
  {
   "cell_type": "code",
   "execution_count": null,
   "metadata": {},
   "outputs": [],
   "source": [
    "gbest, agrad = mizer.optimize()\n",
    "print (\" --> Iterations taken\\nOptima = {}\".format(gbest))"
   ]
  },
  {
   "cell_type": "markdown",
   "metadata": {},
   "source": [
    "## Lyapunov Exponent"
   ]
  },
  {
   "cell_type": "code",
   "execution_count": null,
   "metadata": {},
   "outputs": [],
   "source": [
    "ip = 0\n",
    "ps = [0]\n",
    "pert = np.copy(mizer.pcache[ip])\n",
    "\n",
    "for p in ps :\n",
    "    pert[p] += 1e-5*np.random.rand(dims)\n",
    "\n",
    "seed = (pert, mizer.vcache[ip], mizer.mcache[ip], mizer.pbcache[ip], mizer.gbcache[ip], \n",
    "        mizer.r1cache[ip:], mizer.r2cache[ip:])\n",
    "prep, vrep, mrep, pbrep, gbrep = mizer.replay(seed)\n",
    "\n",
    "for p in ps :\n",
    "    diff = np.sqrt(np.sum(np.square(mizer.pcache[ip:,p] - prep[:,p]), axis=1))\n",
    "    print (np.mean(np.log(diff) - np.log(diff[0])))"
   ]
  },
  {
   "cell_type": "markdown",
   "metadata": {},
   "source": [
    "## Forward Trajectory"
   ]
  },
  {
   "cell_type": "code",
   "execution_count": null,
   "metadata": {},
   "outputs": [],
   "source": [
    "from time import sleep\n",
    "import matplotlib.animation as anim\n",
    "\n",
    "pp = 1\n",
    "lin = np.linspace(llim[0], rlim[0], 1000)    \n",
    "fig, ax = plt.subplots(1,1)\n",
    "ax.plot(lin, func(lin.reshape(-1,1)))\n",
    "\n",
    "for x, pb, gb in zip(mizer.pcache[:,pp], mizer.pbcache[:,pp], mizer.gbcache[:]) :\n",
    "    print(x[0], pb[0], gb[0])\n",
    "    plt.plot(lin, func(lin.reshape(-1,1)))\n",
    "    plt.plot (x, func(x.reshape(-1,1)), 'o')\n",
    "    plt.pause(0.00001)\n",
    "    input()"
   ]
  }
 ],
 "metadata": {
  "kernelspec": {
   "display_name": "Python 3",
   "language": "python",
   "name": "python3"
  },
  "language_info": {
   "codemirror_mode": {
    "name": "ipython",
    "version": 3
   },
   "file_extension": ".py",
   "mimetype": "text/x-python",
   "name": "python",
   "nbconvert_exporter": "python",
   "pygments_lexer": "ipython3",
   "version": "3.8.3"
  }
 },
 "nbformat": 4,
 "nbformat_minor": 4
}
