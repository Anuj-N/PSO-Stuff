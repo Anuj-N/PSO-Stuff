{
 "cells": [
  {
   "cell_type": "markdown",
   "metadata": {},
   "source": [
    "## Objective Function"
   ]
  },
  {
   "cell_type": "code",
   "execution_count": null,
   "metadata": {},
   "outputs": [],
   "source": [
    "import numpy as np\n",
    "\n",
    "def sphere (x) :\n",
    "    return np.sum (np.square(x), axis=1)\n",
    "\n",
    "def banana (x) :\n",
    "    return 100*np.square(x[:,1] - np.square(x[:,0])) + np.square(1 - x[:,0])"
   ]
  },
  {
   "cell_type": "markdown",
   "metadata": {},
   "source": [
    "## Update parameters"
   ]
  },
  {
   "cell_type": "code",
   "execution_count": null,
   "metadata": {},
   "outputs": [],
   "source": [
    "Np = 20\n",
    "w = 0.1\n",
    "c1 = 2\n",
    "c2 = 2"
   ]
  },
  {
   "cell_type": "code",
   "execution_count": null,
   "metadata": {},
   "outputs": [],
   "source": [
    "particles = 200 * np.random.rand(Np, 2) - 100\n",
    "velocity = 200 * np.random.rand(Np, 2) - 100\n",
    "pbest = particles\n",
    "obj = banana\n",
    "\n",
    "gbest = min (particles , key = lambda x : obj(x.reshape(1,-1))[0])"
   ]
  },
  {
   "cell_type": "code",
   "execution_count": null,
   "metadata": {},
   "outputs": [],
   "source": [
    "for i in range (0, 500) :\n",
    "    r1 = np.random.rand (Np,2)\n",
    "    r2 = np.random.rand (Np,2)\n",
    "    velocity = w*velocity + c1*r1*(pbest - particles) + c2*r2*(gbest - particles)\n",
    "    particles = particles + velocity\n",
    "        \n",
    "    less = obj(particles) < obj(pbest)\n",
    "    pbest[less] = particles[less]\n",
    "    \n",
    "    gbest = min (pbest , key = lambda x : obj(x.reshape(1,2))[0])\n",
    "    \n",
    "print (\"f\" + str(gbest) + \" = \" + str(obj(gbest.reshape(1,2))[0]))"
   ]
  },
  {
   "cell_type": "code",
   "execution_count": null,
   "metadata": {},
   "outputs": [],
   "source": [
    "print (obj(particles).reshape(-1).shape)"
   ]
  }
 ],
 "metadata": {
  "kernelspec": {
   "display_name": "Python 3",
   "language": "python",
   "name": "python3"
  },
  "language_info": {
   "codemirror_mode": {
    "name": "ipython",
    "version": 3
   },
   "file_extension": ".py",
   "mimetype": "text/x-python",
   "name": "python",
   "nbconvert_exporter": "python",
   "pygments_lexer": "ipython3",
   "version": "3.7.9"
  }
 },
 "nbformat": 4,
 "nbformat_minor": 2
}
