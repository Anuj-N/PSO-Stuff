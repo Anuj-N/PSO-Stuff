{
 "cells": [
  {
   "cell_type": "markdown",
   "metadata": {},
   "source": [
    "# Imports"
   ]
  },
  {
   "cell_type": "code",
   "execution_count": null,
   "metadata": {},
   "outputs": [],
   "source": [
    "import numpy as np\n",
    "import matplotlib.pyplot as plt\n",
    "\n",
    "import optimizationFuncs as optim\n",
    "import cpso\n",
    "Adaswarm = cpso.Adaswarm"
   ]
  },
  {
   "cell_type": "markdown",
   "metadata": {},
   "source": [
    "## Reload"
   ]
  },
  {
   "cell_type": "code",
   "execution_count": null,
   "metadata": {},
   "outputs": [],
   "source": [
    "from importlib import reload\n",
    "\n",
    "cpso = reload(cpso)\n",
    "Adaswarm = cpso.Adaswarm"
   ]
  },
  {
   "cell_type": "markdown",
   "metadata": {},
   "source": [
    "## Initialise Swarm"
   ]
  },
  {
   "cell_type": "code",
   "execution_count": null,
   "metadata": {},
   "outputs": [],
   "source": [
    "# Number of particles\n",
    "Np = 25\n",
    "\n",
    "# Dimension of the problem\n",
    "dims = 1\n",
    "\n",
    "# Left boundary --> 5 dimensions, and x_i=-100 is the left boundary each dimension (i=0,1,2,3,4)\n",
    "llim = np.repeat (-20, dims)\n",
    "\n",
    "# Right boundary --> 5 dimensions, and x_i=100 is the right boundary for each dimension (i=0,1,2,3,4)\n",
    "rlim = np.repeat (20, dims)\n",
    "\n",
    "# Returns the swarm --> Also internally creates a chaotic generator object\n",
    "swarm = Adaswarm.get_chaotic_swarm(\n",
    "    {\n",
    "        'init_cmap'    : {\n",
    "            'name'      : 'logistic',        # Initialisation map --> Logistic map\n",
    "            'args'      : ()                 # Default logistic parameter --> 4\n",
    "        },\n",
    "        \n",
    "        'dyn_cmap'     : {\n",
    "            'name'      : 'tent',            # Chaotic map for r1, r2 --> Tent map\n",
    "            'args'      : ()                 # Default tent paraneter --> 0.49999\n",
    "        }\n",
    "    }\n",
    ")"
   ]
  },
  {
   "cell_type": "markdown",
   "metadata": {},
   "source": [
    "## Supply Objective Function"
   ]
  },
  {
   "cell_type": "code",
   "execution_count": null,
   "metadata": {},
   "outputs": [],
   "source": [
    "objective = optim.rastrigin\n",
    "\n",
    "# This call creates the PSO optimizer object\n",
    "mizer = swarm(objective, llim, rlim, Np)"
   ]
  },
  {
   "cell_type": "markdown",
   "metadata": {},
   "source": [
    "## Optimize"
   ]
  },
  {
   "cell_type": "code",
   "execution_count": null,
   "metadata": {},
   "outputs": [],
   "source": [
    "# Returns (optimum, approx-grad-function)\n",
    "retpack = mizer.optimize()\n",
    "opt, approxGrad = retpack['rets']\n",
    "print (\"\\rOptimum is at f({}) = {}\".format(opt, objective(opt.reshape(1,-1))[0]))\n",
    "print (\"Gradient at optimum = {}\".format(approxGrad(opt)[0]))"
   ]
  },
  {
   "cell_type": "markdown",
   "metadata": {},
   "source": [
    "## Check Grad"
   ]
  },
  {
   "cell_type": "code",
   "execution_count": null,
   "metadata": {},
   "outputs": [],
   "source": [
    "# Perturbing the optimum\n",
    "dopt = opt + 1e-5*np.random.random_sample (opt.shape)\n",
    "print (\"approxGrad({}) = {}\".format(dopt, approxGrad(dopt).flatten()))"
   ]
  },
  {
   "cell_type": "markdown",
   "metadata": {},
   "source": [
    "## Plot of 1-D approx gradient vs. true gradient"
   ]
  },
  {
   "cell_type": "code",
   "execution_count": null,
   "metadata": {},
   "outputs": [],
   "source": [
    "assert llim.shape[0] == 1\n",
    "\n",
    "truGrad = optim.funcGrads[objective]\n",
    "x = (lambda dx:np.linspace(opt-dx, opt+dx, 1000))(min(opt[0]-llim[0], rlim[0]-opt[0])/10)\n",
    "print (\"Objective function info --> \\n{}\".format(objective.__doc__))\n",
    "\n",
    "fig, ax = plt.subplots(1,2, figsize=(15,7.5))\n",
    "ax[0].plot(opt, truGrad(opt.reshape(1,-1)).flatten(), '*r', label=\"Opt\")\n",
    "ax[0].plot(x, truGrad(x), '-b', label=\"True grad\")\n",
    "ax[0].plot(x, -approxGrad(x), '--g', label=\"Approx grad\")\n",
    "ax[1].plot(opt, objective(opt.reshape(1,-1)).flatten(), '*r', label=\"Opt\")\n",
    "ax[1].plot(x, objective(x), 'b', label=\"Objective\")\n",
    "leg = ax[0].legend();"
   ]
  }
 ],
 "metadata": {
  "kernelspec": {
   "display_name": "Python 3",
   "language": "python",
   "name": "python3"
  },
  "language_info": {
   "codemirror_mode": {
    "name": "ipython",
    "version": 3
   },
   "file_extension": ".py",
   "mimetype": "text/x-python",
   "name": "python",
   "nbconvert_exporter": "python",
   "pygments_lexer": "ipython3",
   "version": "3.8.3"
  }
 },
 "nbformat": 4,
 "nbformat_minor": 4
}
