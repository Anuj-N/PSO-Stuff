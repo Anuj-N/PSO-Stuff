{
 "cells": [
  {
   "cell_type": "code",
   "execution_count": null,
   "metadata": {},
   "outputs": [],
   "source": [
    "import numpy as np\n",
    "import cpso\n",
    "import optimizationFuncs as optim\n",
    "from importlib import reload\n",
    "\n",
    "cpso = reload(cpso)"
   ]
  },
  {
   "cell_type": "code",
   "execution_count": null,
   "metadata": {},
   "outputs": [],
   "source": [
    "dims = 1\n",
    "llim = np.repeat (-20, dims)\n",
    "rlim = np.repeat (20, dims)\n",
    "func = optim.anuwu"
   ]
  },
  {
   "cell_type": "code",
   "execution_count": null,
   "metadata": {},
   "outputs": [],
   "source": [
    "hecu = cpso.HECS_PSO(func, llim, rlim, 25)\n",
    "opt = hecu.optimize()\n",
    "print(\"\\n{}\".format(opt))"
   ]
  },
  {
   "cell_type": "code",
   "execution_count": null,
   "metadata": {},
   "outputs": [],
   "source": [
    "plain = cpso.PWLC_PSO(func, llim, rlim, 25)\n",
    "opt = plain.optimize()\n",
    "print(\"\\n{}\".format(opt))"
   ]
  },
  {
   "cell_type": "code",
   "execution_count": null,
   "metadata": {},
   "outputs": [],
   "source": [
    "gb = cpso.GB_PSO(func, llim, rlim, 25)\n",
    "opt = gb.optimize()\n",
    "print(\"\\n{}\".format(opt))"
   ]
  }
 ],
 "metadata": {
  "kernelspec": {
   "display_name": "Python 3",
   "language": "python",
   "name": "python3"
  },
  "language_info": {
   "codemirror_mode": {
    "name": "ipython",
    "version": 3
   },
   "file_extension": ".py",
   "mimetype": "text/x-python",
   "name": "python",
   "nbconvert_exporter": "python",
   "pygments_lexer": "ipython3",
   "version": "3.8.3"
  }
 },
 "nbformat": 4,
 "nbformat_minor": 4
}
