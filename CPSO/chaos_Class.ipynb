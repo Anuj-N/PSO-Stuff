{
 "cells": [
  {
   "cell_type": "markdown",
   "metadata": {},
   "source": [
    "## Chaos Base Class definition"
   ]
  },
  {
   "cell_type": "code",
   "execution_count": null,
   "metadata": {},
   "outputs": [],
   "source": [
    "import numpy as np\n",
    "\n",
    "class ChaosGen () :    \n",
    "######################################################################\n",
    "# If cascade=False, then each point in the (Np, D) matrix evolves\n",
    "# independently of other points according to the map. For the CPSO, this\n",
    "# amounts to having a certain correlation between the random numbers r1, r2\n",
    "# per iteration of the CPSO\n",
    "#\n",
    "# If cascade=True, then each of the Np particles is connected to the\n",
    "# previous one via the chaotic map. Every dimension is independent of the\n",
    "# other, however!\n",
    "######################################################################\n",
    "    \n",
    "    def __init__ (self, oshape, gshape=None, cascade=True, gens=2) :\n",
    "        self.oshape = oshape\n",
    "        self.gshape = (lambda s: s[1:] if cascade else s)(oshape if gshape is None else gshape)\n",
    "        self.cascade = cascade\n",
    "        self.gens = gens\n",
    "        self.cgens = (lambda s:np.array([np.random.random_sample (s) for i in range(gens)]))\\\n",
    "                    (self.gshape)\n",
    "      \n",
    "    def getCgens (self) :\n",
    "        return self.cgens\n",
    "                 \n",
    "    def chaosPoints (self, gno=0) :\n",
    "        if gno != 0 :\n",
    "            if self.cascade :\n",
    "                return np.array ([\n",
    "                    self.evolve(gno-1) for i in range(self.oshape[0])\n",
    "                ])\n",
    "            else :\n",
    "                return self.evolve(gno-1)\n",
    "        else :\n",
    "            return np.array ([\n",
    "                self.chaosPoints (i+1) for i in range(self.gens)\n",
    "            ])\n",
    "    \n",
    "    def evolve (self) :\n",
    "        # Defined in the specific chaotic classes\n",
    "        pass"
   ]
  },
  {
   "cell_type": "markdown",
   "metadata": {},
   "source": [
    "## Logistic Class"
   ]
  },
  {
   "cell_type": "code",
   "execution_count": null,
   "metadata": {},
   "outputs": [],
   "source": [
    "class Logistic (ChaosGen) :\n",
    "    def __init__ (self, oshape, cascade=True, r=4, gens=2) :\n",
    "        ChaosGen.__init__(self, oshape, None, cascade, gens)\n",
    "        self.r = r\n",
    "        \n",
    "    def evolve (self, gind) :\n",
    "        ret = np.copy (self.cgens[gind])\n",
    "        self.cgens[gind] = (lambda r,x : r*x*(1-x))(self.r, self.cgens[gind])\n",
    "        return ret"
   ]
  },
  {
   "cell_type": "markdown",
   "metadata": {},
   "source": [
    "## Tent Class"
   ]
  },
  {
   "cell_type": "code",
   "execution_count": null,
   "metadata": {},
   "outputs": [],
   "source": [
    "class Tent (ChaosGen) :\n",
    "    def __init__ (self, oshape, cascade=True, mu=0.49999, gens=2) :\n",
    "        ChaosGen.__init__(self, oshape, None, cascade, gens)\n",
    "        self.mu = mu\n",
    "        \n",
    "    def evolve (self, gind) :\n",
    "        ret = np.copy (self.cgens[gind])\n",
    "        self.cgens[gind] = (lambda mu,x : np.where(x <= mu, x/mu, (1-x)/(1-mu)))\\\n",
    "                            (self.mu, self.cgens[gind])\n",
    "        return ret"
   ]
  },
  {
   "cell_type": "markdown",
   "metadata": {},
   "source": [
    "## Lorenz Class"
   ]
  },
  {
   "cell_type": "code",
   "execution_count": null,
   "metadata": {},
   "outputs": [],
   "source": [
    "from scipy.integrate import odeint\n",
    "\n",
    "class Lorenz (ChaosGen) :\n",
    "    lims = {}\n",
    "    \n",
    "    def lorenz (X, t, sigma, beta, rho) :\n",
    "        x, y, z = X\n",
    "        dXdt = [sigma*(y-x), x*(rho-z) - y, x*y - beta*z]\n",
    "        return dXdt\n",
    "    \n",
    "    def setLimits (params) :\n",
    "        if params not in Lorenz.lims :\n",
    "            Lorenz.lims[params] = (lambda s:np.array([\n",
    "                [np.min(s[:,i]), np.max(s[:,i])] for i in [0, 1, 2]\n",
    "            ]))\\\n",
    "            (odeint (Lorenz.lorenz, np.random.rand(3), np.linspace (0, 9999, 999999), args = params))\n",
    "            \n",
    "            \n",
    "    def __init__ (self, oshape, cascade=True, params=(10, 8.0/3, 28), comp=0, h=0.01, gens=2) :\n",
    "        ChaosGen.__init__ (self, oshape, oshape+(3,), cascade, gens)\n",
    "        self.params = params\n",
    "        self.comp = comp\n",
    "        self.h = h\n",
    "        Lorenz.setLimits (params)\n",
    "        \n",
    "        for i in range(0, self.gens) :\n",
    "            for j in [0, 1, 2] :\n",
    "                self.cgens[i,...,j] = (lambda st,mn,mx : mn + (mx - mn)*st)\\\n",
    "                                (self.cgens[i,...,j], Lorenz.lims[params][j,0], Lorenz.lims[params][j,1])\n",
    "        \n",
    "    def evolveT (self, gind, T=1) :\n",
    "        for pt in np.ndindex(self.gshape[:-1]) :\n",
    "            self.cgens[gind][pt] = odeint(Lorenz.lorenz, self.cgens[gind][pt], \n",
    "                                          np.arange(0,self.h*(T+1),self.h), args=self.params)[-1]\n",
    "        \n",
    "    def evolve (self, gind) :\n",
    "        eps = 1e-5\n",
    "        ret = (lambda n2 : np.where (n2 > 1, 1-eps, n2))(\n",
    "            (lambda n1 : np.where (n1 < 0, eps, n1))(\n",
    "            (lambda st, mn, mx : (st - mn)/(mx - mn))\n",
    "            (self.cgens[gind,...,self.comp], \n",
    "             Lorenz.lims[self.params][self.comp,0], \n",
    "             Lorenz.lims[self.params][self.comp,1])\n",
    "            ))\n",
    "        \n",
    "        self.evolveT (gind)\n",
    "        return ret"
   ]
  },
  {
   "cell_type": "markdown",
   "metadata": {},
   "source": [
    "## Testing Chaos Generators"
   ]
  },
  {
   "cell_type": "code",
   "execution_count": null,
   "metadata": {},
   "outputs": [],
   "source": [
    "# cg = Tent ((4,5), False)\n",
    "cg = Lorenz ((4,5))\n",
    "\n",
    "\n",
    "print (cg.oshape)\n",
    "print (cg.gshape)\n",
    "print (\"-------------------------------------------------------\")\n",
    "print ((cgens := cg.getCgens()).shape)\n",
    "print ((cgens0 := cg.chaosPoints()).shape)\n",
    "print ((cgens1 := cg.chaosPoints(1)).shape)\n",
    "print (\"-------------------------------------------------------\")\n",
    "\n",
    "print (cgens)\n",
    "print (cgens0)\n",
    "print (cgens1)\n",
    "\n",
    "\n",
    "print (Lorenz.lims[(10, 8/3, 28)])\n",
    "\n",
    "pass"
   ]
  },
  {
   "cell_type": "code",
   "execution_count": null,
   "metadata": {},
   "outputs": [],
   "source": [
    "print (Lorenz.lims[(10, 8/3, 28)])"
   ]
  }
 ],
 "metadata": {
  "kernelspec": {
   "display_name": "Python 3",
   "language": "python",
   "name": "python3"
  },
  "language_info": {
   "codemirror_mode": {
    "name": "ipython",
    "version": 3
   },
   "file_extension": ".py",
   "mimetype": "text/x-python",
   "name": "python",
   "nbconvert_exporter": "python",
   "pygments_lexer": "ipython3",
   "version": "3.8.3"
  }
 },
 "nbformat": 4,
 "nbformat_minor": 2
}
