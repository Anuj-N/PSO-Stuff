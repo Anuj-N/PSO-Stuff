{
 "cells": [
  {
   "cell_type": "markdown",
   "metadata": {},
   "source": [
    "# Imports"
   ]
  },
  {
   "cell_type": "code",
   "execution_count": null,
   "metadata": {},
   "outputs": [],
   "source": [
    "import CPSO as cpso\n",
    "import numpy as np\n",
    "import importlib\n",
    "\n",
    "cpso = importlib.reload (cpso)"
   ]
  },
  {
   "cell_type": "markdown",
   "metadata": {},
   "source": [
    "## Initialise Swarm"
   ]
  },
  {
   "cell_type": "code",
   "execution_count": null,
   "metadata": {},
   "outputs": [],
   "source": [
    "# Left boundary --> 5 dimensions, and xi=-100 is the left boundary each dimension (i=0,1,2,3,4)\n",
    "llim = np.repeat (-100, 5)\n",
    "\n",
    "# Right boundary --> 5 dimensions, and xi=100 is the right boundary for each dimension (i=0,1,2,3,4)\n",
    "rlim = np.repeat (100, 5)\n",
    "\n",
    "# Shape of the swarm --> 25 particles in 5-D space\n",
    "shape = (25, 5)\n",
    "\n",
    "# Returns the swarm --> Also internally creates a chaotic generator object\n",
    "sw = cpso.PSO_Optimizer.getSwarm (shape, llim, rlim)"
   ]
  },
  {
   "cell_type": "markdown",
   "metadata": {},
   "source": [
    "## Supply Objective Function"
   ]
  },
  {
   "cell_type": "code",
   "execution_count": null,
   "metadata": {},
   "outputs": [],
   "source": [
    "def sphere (x) :\n",
    "    return np.sum(np.square(x), axis=1)\n",
    "\n",
    "# This call creates the PSO optimizer object\n",
    "mizer = sw(sphere)"
   ]
  },
  {
   "cell_type": "markdown",
   "metadata": {},
   "source": [
    "## Optimize"
   ]
  },
  {
   "cell_type": "code",
   "execution_count": null,
   "metadata": {},
   "outputs": [],
   "source": [
    "# Returns (optimum, approx-grad-function)\n",
    "opt, grad = mizer.optimize()\n",
    "print (\"Optimum is at f\" + str(opt) + \" = \" + str(mizer.obj(opt.reshape(1,-1))[0]))"
   ]
  },
  {
   "cell_type": "markdown",
   "metadata": {},
   "source": [
    "## Check Grad"
   ]
  },
  {
   "cell_type": "code",
   "execution_count": null,
   "metadata": {},
   "outputs": [],
   "source": [
    "# Perturbing the optimum\n",
    "dopt = opt + 1e-5*np.random.random_sample (opt.shape)\n",
    "\n",
    "print (\"Gradient at perturbed optimum = \" + str(grad(dopt)))"
   ]
  }
 ],
 "metadata": {
  "kernelspec": {
   "display_name": "Python 3",
   "language": "python",
   "name": "python3"
  },
  "language_info": {
   "codemirror_mode": {
    "name": "ipython",
    "version": 3
   },
   "file_extension": ".py",
   "mimetype": "text/x-python",
   "name": "python",
   "nbconvert_exporter": "python",
   "pygments_lexer": "ipython3",
   "version": "3.8.3"
  }
 },
 "nbformat": 4,
 "nbformat_minor": 4
}
