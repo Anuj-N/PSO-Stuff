{
 "cells": [
  {
   "cell_type": "markdown",
   "metadata": {},
   "source": [
    "# Imports"
   ]
  },
  {
   "cell_type": "code",
   "execution_count": null,
   "metadata": {},
   "outputs": [],
   "source": [
    "import numpy as np\n",
    "import time\n",
    "import matplotlib.pyplot as plt\n",
    "from numpy.linalg import inv"
   ]
  },
  {
   "cell_type": "code",
   "execution_count": null,
   "metadata": {},
   "outputs": [],
   "source": [
    "def obj (x) :    \n",
    "    # return np.power(x, 4) + np.power(x, 3) - 10*np.square(x) + x + 5\n",
    "    return 0.025*np.square(x) + np.sin(x)    \n",
    "\n",
    "objkey = lambda x : obj(x.reshape(-1, 1))[0]"
   ]
  },
  {
   "cell_type": "markdown",
   "metadata": {},
   "source": [
    "# Initialisation"
   ]
  },
  {
   "cell_type": "code",
   "execution_count": null,
   "metadata": {},
   "outputs": [],
   "source": [
    "llim = -20\n",
    "rlim = 20\n",
    "lin = np.linspace(llim, rlim, 100)\n",
    "noParticles = 25\n",
    "x_min = -1.49593\n",
    "w = 0.75\n",
    "c1 = 2\n",
    "c2 = 2\n",
    "vmax = 0.4\n",
    "\n",
    "eps = 1e-2\n",
    "xs = eps*(2*np.random.rand(noParticles, 1) - 1) + x_min\n",
    "vs = eps*np.random.rand(noParticles, 1)\n",
    "# vs *= np.where(xs - x_min <= 0, 1, -1)\n",
    "\n",
    "pbest = np.copy(xs)\n",
    "gbest = min(pbest, key = lambda x : obj(x.reshape(1,-1))[0])\n",
    "\n",
    "pbest_past = np.array([\n",
    "    4.5 if x > x_min else -7.5 for x in xs\n",
    "]).reshape(-1,1)\n",
    "\n",
    "xs_init = np.copy(xs)"
   ]
  },
  {
   "cell_type": "markdown",
   "metadata": {},
   "source": [
    "## Reverse-PSO Loop"
   ]
  },
  {
   "cell_type": "code",
   "execution_count": null,
   "metadata": {},
   "outputs": [],
   "source": [
    "noIter = 100\n",
    "less_once = False\n",
    "foreigns = None\n",
    "step = False\n",
    "for i in range(0, noIter) :\n",
    "    \n",
    "    if step :\n",
    "        plt.plot(lin, obj(lin.reshape(-1, 1)))\n",
    "        plt.plot (xs, obj(xs), 'ro', markersize=3)\n",
    "        plt.pause(0.0001)\n",
    "        input()\n",
    "    \n",
    "    r1s = np.random.rand (noParticles, 1)\n",
    "    r2s = np.random.rand (noParticles, 1)\n",
    "    \n",
    "    \n",
    "    if not less_once :\n",
    "        which_pbest = xs\n",
    "        gb = x_min\n",
    "    else :\n",
    "        if foreigns is None :\n",
    "            foreigns = np.array([\n",
    "                4.5 if x > x_min else -7.5 for x in xs\n",
    "            ]).reshape(-1,1)\n",
    "        which_pbest = foreigns\n",
    "        gb = gbest[0]\n",
    "        \n",
    "    mats = [np.array([\n",
    "            [1 - c1*r1 - c2*r2, w, c1*r1*pb + c2*r2*gb], \n",
    "            [-c1*r1 - c2*r2, w, c1*r1*pb + c2*r2*gb], \n",
    "            [0, 0, 1]\n",
    "        ]) for r1, r2, pb in zip(r1s[:,0], r2s[:,0], which_pbest[:,0])]\n",
    "\n",
    "    vecs = np.array ([np.dot (inv(m), np.array([x, v, 1])) for m, x, v in zip (mats, xs[:,0], vs[:,0])])    \n",
    "    vs = vecs[:,1].reshape(-1, 1)\n",
    "    sgn = vs < 0\n",
    "    vs = np.minimum(vmax, np.abs(vs))\n",
    "    vs[sgn] *= -1    \n",
    "    xs -= vs\n",
    "    \n",
    "    less = obj(xs) <= obj(pbest)\n",
    "    xs[less] = np.copy(pbest[less])\n",
    "    more = np.invert(less)\n",
    "    pbest[more] = np.copy(xs[more])\n",
    "    gbest = min(pbest, key=lambda x : obj(x.reshape(1,-1))[0])\n",
    "    \n",
    "    if less.all() :\n",
    "        if not less_once :\n",
    "            less_once = True\n",
    "        else :\n",
    "            break\n",
    "    \n",
    "if step :\n",
    "    plt.plot(lin, obj(lin.reshape(-1, 1)))\n",
    "    plt.plot (xs, obj(xs), 'ro', markersize=3)\n",
    "    plt.pause(0.0001)\n",
    "    input()\n",
    "\n",
    "print(i)\n",
    "pass"
   ]
  },
  {
   "cell_type": "markdown",
   "metadata": {},
   "source": [
    "## Plot Final Distribution"
   ]
  },
  {
   "cell_type": "code",
   "execution_count": null,
   "metadata": {},
   "outputs": [],
   "source": [
    "plt.plot(lin, obj(lin.reshape(-1, 1)))\n",
    "plt.plot (xs, obj(xs), 'ro', markersize=3)"
   ]
  }
 ],
 "metadata": {
  "kernelspec": {
   "display_name": "Python 3",
   "language": "python",
   "name": "python3"
  },
  "language_info": {
   "codemirror_mode": {
    "name": "ipython",
    "version": 3
   },
   "file_extension": ".py",
   "mimetype": "text/x-python",
   "name": "python",
   "nbconvert_exporter": "python",
   "pygments_lexer": "ipython3",
   "version": "3.8.3"
  }
 },
 "nbformat": 4,
 "nbformat_minor": 2
}
