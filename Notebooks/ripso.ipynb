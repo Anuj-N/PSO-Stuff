{
 "cells": [
  {
   "cell_type": "markdown",
   "metadata": {},
   "source": [
    "## Imports"
   ]
  },
  {
   "cell_type": "code",
   "execution_count": null,
   "metadata": {},
   "outputs": [],
   "source": [
    "import os\n",
    "import sys\n",
    "import numpy as np\n",
    "import matplotlib.pyplot as plt\n",
    "\n",
    "sys.path.append(os.path.abspath('..'))\n",
    "\n",
    "import cpso\n",
    "import optimizationFuncs as optim\n",
    "import pso_util as pu"
   ]
  },
  {
   "cell_type": "markdown",
   "metadata": {},
   "source": [
    "## Reload (if necessary)"
   ]
  },
  {
   "cell_type": "code",
   "execution_count": null,
   "metadata": {},
   "outputs": [],
   "source": [
    "from importlib import reload\n",
    "cpso = reload(cpso)\n",
    "optim = reload(optim)\n",
    "pu = reload(pu)"
   ]
  },
  {
   "cell_type": "markdown",
   "metadata": {},
   "source": [
    "## Setup"
   ]
  },
  {
   "cell_type": "code",
   "execution_count": null,
   "metadata": {},
   "outputs": [],
   "source": [
    "func = optim.holdertable\n",
    "funckey = lambda x : func(x.reshape(1, -1))[0]\n",
    "Np = 25\n",
    "D = 2\n",
    "llim = np.repeat(-10, D)\n",
    "rlim = np.repeat(10, D)\n",
    "mizer = cpso.RI_PSO(func, llim, rlim, Np)"
   ]
  },
  {
   "cell_type": "markdown",
   "metadata": {},
   "source": [
    "## FRF Loop"
   ]
  },
  {
   "cell_type": "code",
   "execution_count": null,
   "metadata": {},
   "outputs": [],
   "source": [
    "opts = []\n",
    "\n",
    "opt, _ = mizer.forward()\n",
    "minopt = opt\n",
    "print(f\"Optimum = {opt}\\n\")\n",
    "opts.append(opt)\n",
    "\n",
    "\n",
    "for _ in range(3) :\n",
    "    opt = opts[-1]\n",
    "    mizer.reverse(opt)\n",
    "    new_opt, _ = mizer.forward()\n",
    "    if funckey(new_opt) - funckey(minopt) >= 1e-1 :\n",
    "        break\n",
    "    else :\n",
    "        print(f\"Optimum = {new_opt}\\n\")\n",
    "        if funckey(new_opt) < funckey(minopt) :\n",
    "            minopt = new_opt\n",
    "        opts.append(new_opt)\n",
    "       \n",
    "opts = np.array(opts)\n",
    "print(f\"Optimums = {opts}\")"
   ]
  },
  {
   "cell_type": "markdown",
   "metadata": {},
   "source": [
    "## Plot Optima and Hulls"
   ]
  },
  {
   "cell_type": "code",
   "execution_count": null,
   "metadata": {},
   "outputs": [],
   "source": [
    "fig, ax = plt.subplots(1, 1)\n",
    "fig.set_figheight(7.5)\n",
    "fig.set_figwidth(7.5)\n",
    "\n",
    "for hull_tup in mizer.hulls :\n",
    "    hull, pip, hb = hull_tup[:3]\n",
    "    ax.plot(pip[0], pip[1], 'ro', label='global optima')\n",
    "    ax.plot(hb[:,0], hb[:,1], 'ko', label='reverse-PSO final position')\n",
    "    for i,j in zip(hull.vertices[:-1], hull.vertices[1:]) :\n",
    "        x = [hb[i,0], hb[j,0]]\n",
    "        y = [hb[i,1], hb[j,1]]\n",
    "        ax.plot(x, y, 'b')\n",
    "\n",
    "    i = hull.vertices[-1]\n",
    "    j = hull.vertices[0]\n",
    "    x = [hb[i,0], hb[j,0]]\n",
    "    y = [hb[i,1], hb[j,1]]\n",
    "    ax.plot(x, y, 'b')"
   ]
  },
  {
   "cell_type": "code",
   "execution_count": null,
   "metadata": {},
   "outputs": [],
   "source": []
  }
 ],
 "metadata": {
  "kernelspec": {
   "display_name": "Python 3",
   "language": "python",
   "name": "python3"
  },
  "language_info": {
   "codemirror_mode": {
    "name": "ipython",
    "version": 3
   },
   "file_extension": ".py",
   "mimetype": "text/x-python",
   "name": "python",
   "nbconvert_exporter": "python",
   "pygments_lexer": "ipython3",
   "version": "3.8.3"
  }
 },
 "nbformat": 4,
 "nbformat_minor": 4
}
