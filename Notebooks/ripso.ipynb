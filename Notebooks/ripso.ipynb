{
 "cells": [
  {
   "cell_type": "markdown",
   "metadata": {},
   "source": [
    "## Imports"
   ]
  },
  {
   "cell_type": "code",
   "execution_count": null,
   "metadata": {},
   "outputs": [],
   "source": [
    "import os\n",
    "import sys\n",
    "import numpy as np\n",
    "import matplotlib.pyplot as plt\n",
    "\n",
    "sys.path.append(os.path.abspath('..'))\n",
    "\n",
    "import ripso\n",
    "import optimizationFuncs as optim"
   ]
  },
  {
   "cell_type": "markdown",
   "metadata": {},
   "source": [
    "## Reload (if necessary)"
   ]
  },
  {
   "cell_type": "code",
   "execution_count": null,
   "metadata": {},
   "outputs": [],
   "source": [
    "from importlib import reload\n",
    "ripso = reload(ripso)\n",
    "optim = reload(optim)"
   ]
  },
  {
   "cell_type": "markdown",
   "metadata": {},
   "source": [
    "## Setup"
   ]
  },
  {
   "cell_type": "code",
   "execution_count": null,
   "metadata": {},
   "outputs": [],
   "source": [
    "func = optim.schaffer4\n",
    "funckey = lambda x : func(x.reshape(1, -1))[0]\n",
    "Np = 25\n",
    "D = 2\n",
    "llim = np.repeat(-10, D)\n",
    "rlim = np.repeat(10, D)\n",
    "mizer = ripso.RI_PSO(func, llim, rlim, Np)"
   ]
  },
  {
   "cell_type": "markdown",
   "metadata": {},
   "source": [
    "## optimize()"
   ]
  },
  {
   "cell_type": "code",
   "execution_count": null,
   "metadata": {},
   "outputs": [],
   "source": [
    "opt = mizer.optimize()\n",
    "print(opt)"
   ]
  },
  {
   "cell_type": "markdown",
   "metadata": {},
   "source": [
    "## Plot Optima and Hulls"
   ]
  },
  {
   "cell_type": "code",
   "execution_count": null,
   "metadata": {},
   "outputs": [],
   "source": [
    "fig, ax = plt.subplots(1, 1)\n",
    "fig.set_figheight(7.5)\n",
    "fig.set_figwidth(7.5)\n",
    "\n",
    "for hull in mizer.hulls :\n",
    "    hull, pip, hb = (hull.hull, hull.pip, hull.verts)\n",
    "    ax.plot(pip[0], pip[1], 'ro', label='global optima')\n",
    "    ax.plot(hb[:,0], hb[:,1], 'ko', label='reverse-PSO final position')\n",
    "    for i,j in zip(hull.vertices[:-1], hull.vertices[1:]) :\n",
    "        x = [hb[i,0], hb[j,0]]\n",
    "        y = [hb[i,1], hb[j,1]]\n",
    "        ax.plot(x, y, 'b')\n",
    "\n",
    "    i = hull.vertices[-1]\n",
    "    j = hull.vertices[0]\n",
    "    x = [hb[i,0], hb[j,0]]\n",
    "    y = [hb[i,1], hb[j,1]]\n",
    "    ax.plot(x, y, 'b')"
   ]
  }
 ],
 "metadata": {
  "kernelspec": {
   "display_name": "Python 3",
   "language": "python",
   "name": "python3"
  },
  "language_info": {
   "codemirror_mode": {
    "name": "ipython",
    "version": 3
   },
   "file_extension": ".py",
   "mimetype": "text/x-python",
   "name": "python",
   "nbconvert_exporter": "python",
   "pygments_lexer": "ipython3",
   "version": "3.8.3"
  }
 },
 "nbformat": 4,
 "nbformat_minor": 4
}
