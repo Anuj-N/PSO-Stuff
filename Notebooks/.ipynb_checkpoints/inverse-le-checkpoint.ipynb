{
 "cells": [
  {
   "cell_type": "markdown",
   "metadata": {},
   "source": [
    "## Imports"
   ]
  },
  {
   "cell_type": "code",
   "execution_count": 1,
   "metadata": {},
   "outputs": [],
   "source": [
    "import os\n",
    "import sys\n",
    "import numpy as np\n",
    "import scipy.optimize as sco\n",
    "import matplotlib.pyplot as plt\n",
    "\n",
    "sys.path.append(os.path.abspath('..'))\n",
    "import chaosGen as cg"
   ]
  },
  {
   "cell_type": "markdown",
   "metadata": {},
   "source": [
    "## Reload (if necessary)"
   ]
  },
  {
   "cell_type": "code",
   "execution_count": null,
   "metadata": {},
   "outputs": [],
   "source": [
    "from importlib import reload\n",
    "cg = reload(cg)\n",
    "ChaosGenerator = cg.ChaosGenerator"
   ]
  },
  {
   "cell_type": "markdown",
   "metadata": {},
   "source": [
    "## Define inverse map"
   ]
  },
  {
   "cell_type": "code",
   "execution_count": null,
   "metadata": {},
   "outputs": [],
   "source": [
    "def invmap (le, eps=1e-4) :\n",
    "    if le <= np.log(2) :\n",
    "        lep = lambda p : le + p*np.log(p) + (1-p)*np.log(1-p)\n",
    "        lo, mid, hi = 0, 0.5, 1\n",
    "        cmap = lambda p : lambda x : x/p if x <= p else (1-x)/(1-p)\n",
    "    else :\n",
    "        n = np.ceil(np.exp(le)).astype(np.int)\n",
    "        lep = lambda p : le - (n-2)/n*np.log(n) + p*np.log(p) + (2/n - p)*np.log(2/n - p)\n",
    "        lo, mid, hi = 0, 1/n, 2/n\n",
    "        \n",
    "        def cmap (p) :\n",
    "            def _cmap (x) :\n",
    "                nx = n*x\n",
    "                nums = np.arange(0, n-2)\n",
    "                sub = nums[np.argmin(np.where(nx - nums > 0, nx - nums, n))]\n",
    "                \n",
    "                if sub < n-3 or nx < n-2 :\n",
    "                    return nx - sub\n",
    "                elif nx < n-2 + p*n : # sub == n-3\n",
    "                    return (nx - (sub+1))/(n*p)\n",
    "                else :\n",
    "                    return (nx - (sub+1) - n*p)/(2 - n*p)\n",
    "                    \n",
    "            return _cmap\n",
    "        \n",
    "    p1 = sco.brentq (lep, lo+eps, mid-eps)\n",
    "    p2 = sco.brentq (lep, mid+eps, hi-eps)\n",
    "    return [p1, p2], cmap"
   ]
  },
  {
   "cell_type": "markdown",
   "metadata": {},
   "source": [
    "## Test"
   ]
  },
  {
   "cell_type": "code",
   "execution_count": null,
   "metadata": {},
   "outputs": [],
   "source": [
    "plist, cmapp = invmap(1.28991999999)\n",
    "print (plist)\n",
    "cmap = np.vectorize(cmapp(plist[0]))"
   ]
  },
  {
   "cell_type": "markdown",
   "metadata": {},
   "source": [
    "## Vectorize"
   ]
  },
  {
   "cell_type": "code",
   "execution_count": null,
   "metadata": {},
   "outputs": [],
   "source": [
    "cmapVec = np.vectorize(cmap)\n",
    "plt.plot (lin, cmapVec(lin), 'o', markersize=3)\n",
    "pass"
   ]
  }
 ],
 "metadata": {
  "kernelspec": {
   "display_name": "Python 3",
   "language": "python",
   "name": "python3"
  },
  "language_info": {
   "codemirror_mode": {
    "name": "ipython",
    "version": 3
   },
   "file_extension": ".py",
   "mimetype": "text/x-python",
   "name": "python",
   "nbconvert_exporter": "python",
   "pygments_lexer": "ipython3",
   "version": "3.8.3"
  }
 },
 "nbformat": 4,
 "nbformat_minor": 4
}
