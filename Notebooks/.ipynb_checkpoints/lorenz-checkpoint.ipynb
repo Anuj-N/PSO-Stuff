{
 "cells": [
  {
   "cell_type": "markdown",
   "metadata": {},
   "source": [
    "## Imports"
   ]
  },
  {
   "cell_type": "code",
   "execution_count": null,
   "metadata": {},
   "outputs": [],
   "source": [
    "import numpy as np\n",
    "import matplotlib.pyplot as plt\n",
    "from scipy.integrate import odeint\n",
    "from mpl_toolkits import mplot3d"
   ]
  },
  {
   "cell_type": "markdown",
   "metadata": {},
   "source": [
    "## Define Lorenz flow"
   ]
  },
  {
   "cell_type": "code",
   "execution_count": null,
   "metadata": {},
   "outputs": [],
   "source": [
    "def lorenz (X, t, sigma, beta, rho) :\n",
    "    x, y, z = X\n",
    "    dXdt = [sigma*(y - x), x*(rho - z) - y, x*y - beta*z]\n",
    "    return dXdt"
   ]
  },
  {
   "cell_type": "markdown",
   "metadata": {},
   "source": [
    "# Solving with Runge-Kutta"
   ]
  },
  {
   "cell_type": "code",
   "execution_count": null,
   "metadata": {},
   "outputs": [],
   "source": [
    "sigma = 10\n",
    "beta = 8.0/3\n",
    "rho = 28\n",
    "\n",
    "X0 = [np.random.rand (), np.random.rand (), np.random.rand ()]\n",
    "t = np.linspace (0, 100, 100000)\n",
    "sol = odeint (lorenz, X0, t, args = (sigma, beta, rho))"
   ]
  },
  {
   "cell_type": "markdown",
   "metadata": {},
   "source": [
    "## Plot Lorenz attractor in 3-D"
   ]
  },
  {
   "cell_type": "code",
   "execution_count": null,
   "metadata": {},
   "outputs": [],
   "source": [
    "fig = plt.figure()\n",
    "plt.figure(figsize = (15, 15))\n",
    "ax = plt.axes(projection='3d')\n",
    "ax.plot3D (sol[:,0], sol[:,1], sol[:,2])"
   ]
  },
  {
   "cell_type": "markdown",
   "metadata": {},
   "source": [
    "## Plot 2-D cartesian sections"
   ]
  },
  {
   "cell_type": "code",
   "execution_count": null,
   "metadata": {},
   "outputs": [],
   "source": [
    "fig = plt.figure()\n",
    "plt.figure(figsize = (15, 15))\n",
    "\n",
    "plt.subplot (2, 2, 1)\n",
    "plt.plot (sol[:,0], sol[:,1])\n",
    "plt.xlabel ('X-axis')\n",
    "plt.ylabel ('Y-axis')\n",
    "\n",
    "plt.subplot (2, 2, 2)\n",
    "plt.plot (sol[:,0], sol[:,2])\n",
    "plt.xlabel ('X-axis')\n",
    "plt.ylabel ('Z-axis')\n",
    "\n",
    "plt.subplot (2, 2, 3)\n",
    "plt.plot (sol[:,1], sol[:,2])\n",
    "plt.xlabel ('Y-axis')\n",
    "plt.ylabel ('Z-axis')\n",
    "\n",
    "plt.subplot (2, 2, 4)\n",
    "plt.plot (t, sol[:,0], t, sol[:, 1], t, sol[:, 2])"
   ]
  },
  {
   "cell_type": "markdown",
   "metadata": {},
   "source": [
    "# Distribution of the Lorenz System"
   ]
  },
  {
   "cell_type": "code",
   "execution_count": null,
   "metadata": {},
   "outputs": [],
   "source": [
    "bins = np.linspace (0, 1, 100)\n",
    "randList = np.random.rand (10000)\n",
    "\n",
    "t = np.linspace (0, 1000, 1000/0.01)\n",
    "chaosList = odeint (lorenz, X0, t, args = (sigma, beta, rho))[-10000:,0]\n",
    "cmin = min (chaosList)\n",
    "cmax = max (chaosList)\n",
    "chaosList = (chaosList - cmin)/(cmax - cmin)\n",
    "\n",
    "plt.figure(figsize=[10,8])\n",
    "plt.hist([randList.flatten(), chaosList.flatten()], bins, label=[\"Random\", \"Lorenz\"])\n",
    "plt.grid(axis='y', alpha=0.75)\n",
    "plt.xlabel('Value',fontsize=15)\n",
    "plt.ylabel('Frequency',fontsize=15)\n",
    "plt.xticks(fontsize=15)\n",
    "plt.yticks(fontsize=15)\n",
    "plt.ylabel('Frequency',fontsize=15)\n",
    "plt.show()"
   ]
  }
 ],
 "metadata": {
  "kernelspec": {
   "display_name": "Python 3",
   "language": "python",
   "name": "python3"
  },
  "language_info": {
   "codemirror_mode": {
    "name": "ipython",
    "version": 3
   },
   "file_extension": ".py",
   "mimetype": "text/x-python",
   "name": "python",
   "nbconvert_exporter": "python",
   "pygments_lexer": "ipython3",
   "version": "3.8.3"
  }
 },
 "nbformat": 4,
 "nbformat_minor": 2
}
