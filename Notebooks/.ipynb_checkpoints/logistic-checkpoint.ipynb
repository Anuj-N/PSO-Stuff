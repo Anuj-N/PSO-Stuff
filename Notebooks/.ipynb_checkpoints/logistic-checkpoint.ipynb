{
 "cells": [
  {
   "cell_type": "markdown",
   "metadata": {},
   "source": [
    "# Time series of Logistic Map"
   ]
  },
  {
   "cell_type": "code",
   "execution_count": null,
   "metadata": {},
   "outputs": [],
   "source": [
    "import numpy as np\n",
    "x0 = 0.01\n",
    "\n",
    "def logistic (x, r) :\n",
    "    return r * x * (1 - x) \n",
    "\n",
    "def getTimeSeries (length, r) :\n",
    "    n = np.arange (1, length+1)\n",
    "    xs = [x0]\n",
    "    x = x0\n",
    "    \n",
    "    for i in range (1, length) :\n",
    "        x = logistic (x, r)\n",
    "        xs.append (x)\n",
    "        \n",
    "    xs = np.array (xs)\n",
    "    return (n, xs)"
   ]
  },
  {
   "cell_type": "code",
   "execution_count": null,
   "metadata": {},
   "outputs": [],
   "source": [
    "import matplotlib.pyplot as plt\n",
    "\n",
    "n, xs = getTimeSeries (100, 3.3)\n",
    "fig = plt.gcf()\n",
    "fig.set_size_inches(18.5, 10.5)\n",
    "plt.plot (n, xs, color='b')\n",
    "plt.show ()"
   ]
  },
  {
   "cell_type": "markdown",
   "metadata": {},
   "source": [
    "# Orbit Diagram"
   ]
  },
  {
   "cell_type": "code",
   "execution_count": null,
   "metadata": {},
   "outputs": [],
   "source": [
    "step = 0.001\n",
    "r0 = 2\n",
    "rmax = 4\n",
    "timeSteps = 1000\n",
    "orbit = []\n",
    "\n",
    "fig = plt.gcf()\n",
    "fig.set_size_inches(20, 15)\n",
    "\n",
    "r = r0\n",
    "while r <= rmax :\n",
    "    attractors = getTimeSeries (timeSteps, r)[1][500:]\n",
    "    plt.scatter (r * np.ones (len(attractors)), attractors, color = 'b', s=0.01)\n",
    "    r = r + step\n",
    "    \n",
    "print (\"Done getting orbit data\")\n",
    "\n",
    "plt.xlim (r0,rmax)\n",
    "plt.show ()"
   ]
  },
  {
   "cell_type": "markdown",
   "metadata": {},
   "source": [
    "# Particle Distribution"
   ]
  },
  {
   "cell_type": "code",
   "execution_count": null,
   "metadata": {},
   "outputs": [],
   "source": [
    "bins = np.linspace (0, 1, 100)\n",
    "randList = np.random.rand (10000)\n",
    "chaosList = getTimeSeries (10000, 4)[1]\n",
    "\n",
    "plt.figure(figsize=[10,8])\n",
    "plt.hist([randList.flatten(), chaosList.flatten()], bins, label=[\"Random\", \"Logistic\"])\n",
    "plt.grid(axis='y', alpha=0.75)\n",
    "plt.xlabel('Value',fontsize=15)\n",
    "plt.ylabel('Frequency',fontsize=15)\n",
    "plt.xticks(fontsize=15)\n",
    "plt.yticks(fontsize=15)\n",
    "plt.ylabel('Frequency',fontsize=15)\n",
    "plt.show()"
   ]
  }
 ],
 "metadata": {
  "kernelspec": {
   "display_name": "Python 3",
   "language": "python",
   "name": "python3"
  },
  "language_info": {
   "codemirror_mode": {
    "name": "ipython",
    "version": 3
   },
   "file_extension": ".py",
   "mimetype": "text/x-python",
   "name": "python",
   "nbconvert_exporter": "python",
   "pygments_lexer": "ipython3",
   "version": "3.8.3"
  }
 },
 "nbformat": 4,
 "nbformat_minor": 2
}
