{
 "cells": [
  {
   "cell_type": "markdown",
   "metadata": {},
   "source": [
    "## Imports"
   ]
  },
  {
   "cell_type": "code",
   "execution_count": null,
   "metadata": {},
   "outputs": [],
   "source": [
    "import numpy as np\n",
    "import optimizationFuncs as optim\n",
    "import matplotlib.pyplot as plt"
   ]
  },
  {
   "cell_type": "markdown",
   "metadata": {},
   "source": [
    "## 1-D function"
   ]
  },
  {
   "cell_type": "code",
   "execution_count": null,
   "metadata": {},
   "outputs": [],
   "source": [
    "func = optim.anuwu\n",
    "lin = np.linspace(-20, 20, 1000).reshape(-1,1)\n",
    "flin = func(lin)"
   ]
  },
  {
   "cell_type": "markdown",
   "metadata": {},
   "source": [
    "## Transformation"
   ]
  },
  {
   "cell_type": "code",
   "execution_count": null,
   "metadata": {},
   "outputs": [],
   "source": [
    "lf = np.array([8.2]).reshape(-1, 1)\n",
    "rt = np.array([12.2]).reshape(-1, 1)\n",
    "\n",
    "flf = func(lf)\n",
    "frt = func(rt)\n",
    "\n",
    "locmin = np.array([10.446]).reshape(-1,1)\n",
    "gamma1 = 1e-1\n",
    "gamma2 = 2\n",
    "mu = 1\n",
    "\n",
    "sgn = np.sign(flin - func(locmin))\n",
    "# Glin = np.where(np.logical_and(lf <= lin, lin <= rt), flin + gamma1/2*np.abs(lin - locmin)*(sgn + 1), flin)\n",
    "# Hlin = np.where(np.logical_and(lf <= lin, lin <= rt), Glin + gamma2/2*(sgn+1)/(np.tanh(mu*(Glin - func(locmin)))), flin)\n",
    "\n",
    "# Glin = flin + gamma1*np.abs(lin - locmin)*(sgn + 1)/2\n",
    "# Hlin = Glin + gamma2*(sgn+1)/(2*(np.tanh(mu*(Glin - func(locmin)))))\n",
    "\n",
    "Glin = np.where(flin <= func(locmin), flin, func(locmin) + gamma1*np.abs(lin-locmin))\n",
    "Hlin = Glin + np.where(np.logical_and(lf <= lin, lin <= rt), 1/np.tanh(Glin - func(locmin)), 0)"
   ]
  },
  {
   "cell_type": "markdown",
   "metadata": {},
   "source": [
    "## Plots"
   ]
  },
  {
   "cell_type": "code",
   "execution_count": null,
   "metadata": {},
   "outputs": [],
   "source": [
    "fig, ax = plt.subplots(1,3)\n",
    "fig.set_figheight(5)\n",
    "fig.set_figwidth(15)\n",
    "\n",
    "ax[0].plot(lin, flin)\n",
    "ax[1].plot(lin, Glin, 'o', markersize=1)\n",
    "ax[1].set_ylim([-2,10])\n",
    "ax[2].plot(lin, Hlin,  'o', markersize=1)\n",
    "ax[2].set_ylim([-2,10])"
   ]
  }
 ],
 "metadata": {
  "kernelspec": {
   "display_name": "Python 3",
   "language": "python",
   "name": "python3"
  },
  "language_info": {
   "codemirror_mode": {
    "name": "ipython",
    "version": 3
   },
   "file_extension": ".py",
   "mimetype": "text/x-python",
   "name": "python",
   "nbconvert_exporter": "python",
   "pygments_lexer": "ipython3",
   "version": "3.8.3"
  }
 },
 "nbformat": 4,
 "nbformat_minor": 4
}
