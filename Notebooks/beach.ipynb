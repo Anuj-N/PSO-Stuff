{
 "cells": [
  {
   "cell_type": "markdown",
   "metadata": {},
   "source": [
    "## Imports"
   ]
  },
  {
   "cell_type": "code",
   "execution_count": null,
   "metadata": {},
   "outputs": [],
   "source": [
    "import numpy as np\n",
    "import matplotlib.pyplot as plt"
   ]
  },
  {
   "cell_type": "markdown",
   "metadata": {},
   "source": [
    "## Beach class"
   ]
  },
  {
   "cell_type": "code",
   "execution_count": null,
   "metadata": {},
   "outputs": [],
   "source": [
    "roblim = np.exp(-4)\n",
    "logistic = lambda x : 4*x*(1-x)\n",
    "\n",
    "class Beach1 () :\n",
    "\n",
    "    def beach (self, x, b) :\n",
    "        if np.abs(b - 1) < 1e-4 :\n",
    "            return 4*x*(1-x)\n",
    "        else :\n",
    "            return (b - x*np.power(b,x) - (1-x)*np.power(b, 1-x))/(b - np.sqrt(b))\n",
    "    \n",
    "    def __seedb__ (self) :\n",
    "        \"\"\" \n",
    "        Seeds the initial b parameter of BEACH until it\n",
    "        is legal\n",
    "        \"\"\"\n",
    "        \n",
    "        r = np.random.rand()\n",
    "        b = roblim + r*(self.blim - roblim)\n",
    "        while r == 0.75 :\n",
    "            r = np.random.rand()\n",
    "            b = roblim + r*(self.blim - roblim)\n",
    "            \n",
    "        self.r = r\n",
    "        self.b = b\n",
    "    \n",
    "    def __init__ (self, x, R=20, blim=1e4) :\n",
    "        \"\"\" Beach constructor \"\"\"\n",
    "        \n",
    "        self.x = x\n",
    "        self.R = R\n",
    "        self.blim = blim\n",
    "        self.blim_inv = 1/blim\n",
    "        self.__seedb__()\n",
    "        \n",
    "        self.xcache = []\n",
    "        self.bcache = []\n",
    "        \n",
    "    def getrand (self) :\n",
    "        \"\"\"\n",
    "        Returns a random number after iterating with \n",
    "        the BEACH algorithm\n",
    "        \"\"\"\n",
    "        \n",
    "        self.xcache.append(self.x)\n",
    "        self.bcache.append(self.b)\n",
    "\n",
    "        ret = self.x\n",
    "        for _ in range(self.R) :\n",
    "            self.x = self.beach(self.x, self.b)\n",
    "            \n",
    "        self.r = logistic(self.r)\n",
    "        if self.r <= self.blim_inv :\n",
    "            self.r = self.x if self.x >= self.blim_inv else self.blim_inv\n",
    "            \n",
    "        self.b = roblim + self.r*(self.blim - roblim)  \n",
    "        return ret\n",
    "    \n",
    "#########################################################################################\n",
    "#########################################################################################\n",
    "\n",
    "class Beach2 () :\n",
    "\n",
    "    def beach (self, x, b) :\n",
    "        if np.abs(b - 1) < 1e-4 :\n",
    "            return 4*x*(1-x)\n",
    "        else :\n",
    "            return (b - x*np.power(b,x) - (1-x)*np.power(b, 1-x))/(b - np.sqrt(b))\n",
    "    \n",
    "    def __seedb__ (self) :\n",
    "        \"\"\" \n",
    "        Seeds the initial b parameter of BEACH until it\n",
    "        is legal\n",
    "        \"\"\"\n",
    "        \n",
    "        b = np.random.rand()\n",
    "        while b == 0.75 or b <= roblim :\n",
    "            b = np.random.rand()\n",
    "        \n",
    "        self.b = b\n",
    "    \n",
    "    def __init__ (self, x, R=20, blim=1e4) :\n",
    "        \"\"\" Beach constructor \"\"\"\n",
    "        \n",
    "        self.x = x\n",
    "        self.R = R\n",
    "        self.blim = blim\n",
    "        self.blim_inv = 1/blim\n",
    "        self.__seedb__()\n",
    "        \n",
    "        self.xcache = []\n",
    "        self.bcache = []\n",
    "        \n",
    "    def getrand (self) :\n",
    "        \"\"\"\n",
    "        Returns a random number after iterating with \n",
    "        the BEACH algorithm\n",
    "        \"\"\"\n",
    "        \n",
    "        self.xcache.append(self.x)\n",
    "        self.bcache.append(self.b)\n",
    "\n",
    "        ret = self.x\n",
    "        for _ in range(self.R) :\n",
    "            self.x = self.beach(self.x, self.b)\n",
    "            \n",
    "        self.b = logistic(self.b)\n",
    "        if self.b <= roblim :\n",
    "            if self.x >= roblim :\n",
    "                self.b = self.x\n",
    "            else :\n",
    "                b = np.random.rand()\n",
    "                while b == 0.75 or b <= roblim :\n",
    "                    b = np.random.rand()\n",
    "                    \n",
    "                self.b = b\n",
    "            \n",
    "        return ret"
   ]
  },
  {
   "cell_type": "markdown",
   "metadata": {},
   "source": [
    "## Initialise Beach object"
   ]
  },
  {
   "cell_type": "code",
   "execution_count": null,
   "metadata": {},
   "outputs": [],
   "source": [
    "obj = Beach1(r:=np.random.rand())\n",
    "print (r)"
   ]
  },
  {
   "cell_type": "markdown",
   "metadata": {},
   "source": [
    "## Get list of random numbers"
   ]
  },
  {
   "cell_type": "code",
   "execution_count": null,
   "metadata": {},
   "outputs": [],
   "source": [
    "lst = [obj.getrand() for _ in range(10000)]"
   ]
  },
  {
   "cell_type": "markdown",
   "metadata": {},
   "source": [
    "## Distribution of BEACH numbers"
   ]
  },
  {
   "cell_type": "code",
   "execution_count": null,
   "metadata": {},
   "outputs": [],
   "source": [
    "plt.hist (lst, bins=100)\n",
    "pass"
   ]
  },
  {
   "cell_type": "markdown",
   "metadata": {},
   "source": [
    "## Compare with np.random distribution"
   ]
  },
  {
   "cell_type": "code",
   "execution_count": null,
   "metadata": {},
   "outputs": [],
   "source": [
    "plt.hist (np.random.random_sample((1000,)), bins=100)\n",
    "pass"
   ]
  }
 ],
 "metadata": {
  "kernelspec": {
   "display_name": "Python 3",
   "language": "python",
   "name": "python3"
  },
  "language_info": {
   "codemirror_mode": {
    "name": "ipython",
    "version": 3
   },
   "file_extension": ".py",
   "mimetype": "text/x-python",
   "name": "python",
   "nbconvert_exporter": "python",
   "pygments_lexer": "ipython3",
   "version": "3.8.3"
  }
 },
 "nbformat": 4,
 "nbformat_minor": 4
}
