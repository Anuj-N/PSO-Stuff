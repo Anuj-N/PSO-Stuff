{
 "cells": [
  {
   "cell_type": "markdown",
   "metadata": {},
   "source": [
    "## Imports"
   ]
  },
  {
   "cell_type": "code",
   "execution_count": null,
   "metadata": {},
   "outputs": [],
   "source": [
    "import numpy as np\n",
    "import matplotlib.pyplot as plt\n",
    "\n",
    "import benchmark as bm\n",
    "import suite"
   ]
  },
  {
   "cell_type": "markdown",
   "metadata": {},
   "source": [
    "## Reload (if necessary)"
   ]
  },
  {
   "cell_type": "code",
   "execution_count": null,
   "metadata": {},
   "outputs": [],
   "source": [
    "from importlib import reload\n",
    "\n",
    "bm = reload(bm)\n",
    "suite = reload(suite)"
   ]
  },
  {
   "cell_type": "markdown",
   "metadata": {},
   "source": [
    "## Benchmark"
   ]
  },
  {
   "cell_type": "code",
   "execution_count": null,
   "metadata": {},
   "outputs": [],
   "source": [
    "bench_iters = 10\n",
    "dims = 2\n",
    "\n",
    "# Get benchmarker for rastrigin\n",
    "bench = bm.benches['rosenbrock2D']\n",
    "\n",
    "##########################################################################################\n",
    "\n",
    "# Vanilla PSO\n",
    "opter1 = suite.optimizers['vanilla']\n",
    "evaluator1 = bench(opter1)\n",
    "print(f\"Benchmarking Vanilla PSO on {evaluator1}\")\n",
    "spec1 = evaluator1.eval(bench_iters)\n",
    "\n",
    "\n",
    "##########################################################################################\n",
    "\n",
    "\n",
    "# Adaswarm\n",
    "opter2 = suite.optimizers['adaswarm'].get_plain_swarm()\n",
    "evaluator2 = bench(opter2)\n",
    "print(f\"\\nBenchmarking Adaswarm on {evaluator2}\")\n",
    "spec2 = evaluator2.eval(bench_iters)\n",
    "\n",
    "##########################################################################################\n",
    "\n",
    "# Reverse-Informed PSO\n",
    "opter3 = suite.optimizers['ripso']\n",
    "evaluator3 = bench(opter3)\n",
    "print(f\"\\nBenchmarking Reverse-Informed PSO on {evaluator3}\")\n",
    "spec3 = evaluator3.eval(bench_iters)"
   ]
  },
  {
   "cell_type": "markdown",
   "metadata": {},
   "source": [
    "## Printing Overall specs"
   ]
  },
  {
   "cell_type": "code",
   "execution_count": null,
   "metadata": {},
   "outputs": [],
   "source": [
    "keys = [k for k in spec1['ospec'].keys() if k != 'conv_curves']\n",
    "specs = {\n",
    "    'vanilla'      : spec1['ospec'],\n",
    "    'adaswarm'     : spec2['ospec'],\n",
    "    'ripso'        : spec3['ospec']\n",
    "}\n",
    "\n",
    "for k in keys :\n",
    "    for pso_type, spec in specs.items() :\n",
    "        print(\"{:>10} {:>25} {:>25}\".format(pso_type, k, spec[k]))\n",
    "    print(\"\\n\", end=\"\")"
   ]
  },
  {
   "cell_type": "markdown",
   "metadata": {},
   "source": [
    "## Print Worst and Best Convergence Curve"
   ]
  },
  {
   "cell_type": "code",
   "execution_count": null,
   "metadata": {},
   "outputs": [],
   "source": [
    "fig, ax = plt.subplots(1, 2, gridspec_kw={'width_ratios' : [1, 1]})\n",
    "fig.set_figheight(5)\n",
    "fig.set_figwidth(10)\n",
    "\n",
    "ccb1, ccw1 = spec1['ospec']['conv_curves']\n",
    "ccb2, ccw2 = spec2['ospec']['conv_curves']\n",
    "ccb3, ccw3 = spec3['ospec']['conv_curves']\n",
    "\n",
    "ax[0].plot(np.arange(len(ccb1)), ccb1, 'r', label='Vanilla')\n",
    "ax[0].plot(np.arange(len(ccb2)), ccb2, 'b', label='Adaswarm')\n",
    "ax[0].plot(np.arange(len(ccb3)), ccb3, 'k', label='Reverse-Informed')\n",
    "ax[0].legend()\n",
    "\n",
    "ax[1].plot(np.arange(len(ccw1)), ccw1, 'r', label='Vanilla')\n",
    "ax[1].plot(np.arange(len(ccw2)), ccw2, 'b', label='Adaswarm')\n",
    "ax[1].plot(np.arange(len(ccw3)), ccw3, 'k', label='Reverse-Informed')\n",
    "ax[1].legend()"
   ]
  }
 ],
 "metadata": {
  "kernelspec": {
   "display_name": "Python 3",
   "language": "python",
   "name": "python3"
  },
  "language_info": {
   "codemirror_mode": {
    "name": "ipython",
    "version": 3
   },
   "file_extension": ".py",
   "mimetype": "text/x-python",
   "name": "python",
   "nbconvert_exporter": "python",
   "pygments_lexer": "ipython3",
   "version": "3.8.3"
  }
 },
 "nbformat": 4,
 "nbformat_minor": 4
}
