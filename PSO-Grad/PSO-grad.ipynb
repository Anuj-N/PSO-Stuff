{
 "cells": [
  {
   "cell_type": "markdown",
   "metadata": {},
   "source": [
    "# Function Definitions"
   ]
  },
  {
   "cell_type": "code",
   "execution_count": 9,
   "metadata": {},
   "outputs": [],
   "source": [
    "import numpy as np\n",
    "from scipy.integrate import odeint\n",
    "from statistics import mean\n",
    "import matplotlib.pyplot as plt\n",
    "\n",
    "def approx (num, rel, tol, cmpr) :\n",
    "\t# Check if num is lower than relative\n",
    "\tif cmpr == -1 :\n",
    "\t\treturn (rel - num)/np.abs(rel) <= tol\n",
    "\n",
    "\t# Check absolute difference to relative\n",
    "\tif cmpr == 0 :\n",
    "\t\treturn np.abs(num - rel)/np.abs(rel) <= tol\n",
    "\n",
    "\t# Check if num is higher than relative\n",
    "\tif cmpr == 1 :\n",
    "\t\treturn (num - rel)/np.abs(rel) <= tol\n",
    "\n",
    "def obj (x) :\n",
    "    # objective 1  [x^2] ---> x_min = 0, f(x_min) = 0\n",
    "    # return np.square (x)\n",
    "    \n",
    "    # objective 2 [x^4 + x^3 - 10x^2 + x + 5] ---> x_min = -2.6629, f(x_min) = -37.1732\n",
    "    # return np.power(x, 4) + np.power(x, 3) - 10*np.square(x) + x + 5\n",
    "    \n",
    "    # objective 3 [0.025*x^2 + sin(x)] ---> x_min = 1.49593, f(x_min) = -0.94125366117\n",
    "    # return 0.025*np.square(x) + np.sin(x)\n",
    "    \n",
    "    # objective 4 [-exp(cos(x^2)) + x^2] ---> x_min = 0, f(x_min) = -e\n",
    "    return -np.exp(np.cos(np.square(x))) + np.square(x)\n",
    "    \n",
    "    # objective 5 [|x|]\n",
    "    return np.abs (x)\n",
    "\n",
    "def objDer (x) :\n",
    "\t# Objective 1\n",
    "\t# return 2*x\n",
    "\n",
    "\t# Objective 2\n",
    "\t# return 4*np.pow(x,3) + 3*np.pow(x,2) - 20*np.pow(x) + 1\n",
    "\n",
    "\t# Objective 3\n",
    "\t# return 0.05*x + np.cos(x)\n",
    "    \n",
    "    # Objective 4\n",
    "    # return 2*x*(1 + np.sin(np.square(x)) * np.exp(np.cos(np.square(x))))\n",
    "    \n",
    "    # Objective 5\n",
    "    der = np.ones (shape=x.shape)\n",
    "    der[x<0] = -1\n",
    "    return der"
   ]
  },
  {
   "cell_type": "markdown",
   "metadata": {},
   "source": [
    "# PSO Loop with Diagnostic Plots"
   ]
  },
  {
   "cell_type": "code",
   "execution_count": 10,
   "metadata": {},
   "outputs": [
    {
     "data": {
      "image/png": "[encoded data removed]",
      "text/plain": [
       "<Figure size 432x288 with 1 Axes>"
      ]
     },
     "metadata": {
      "needs_background": "light"
     },
     "output_type": "display_data"
    }
   ],
   "source": [
    "Nx = 25\n",
    "w = 0.1\n",
    "c1 = 0.8\n",
    "c2 = 0.9\n",
    "beta = 0.9\n",
    "\n",
    "left = -20 \n",
    "right = 20\n",
    "intervalLength = right - left\n",
    "\n",
    "xVan = intervalLength * np.random.rand(Nx, 1) - intervalLength/2\n",
    "vVan = intervalLength/100.0 * np.random.rand(Nx, 1) - intervalLength/(2*100)\n",
    "xMom = intervalLength * np.random.rand(Nx, 1) - intervalLength/2\n",
    "vMom = intervalLength/100.0 * np.random.rand(Nx, 1) - intervalLength/(2*100)\n",
    "momvec = np.zeros(shape = (Nx, 1))\n",
    "pbestVan = xVan\n",
    "pbestMom = xMom\n",
    "\n",
    "numIter = 100\n",
    "gbestVan = min (xVan , key = lambda x : obj(x))\n",
    "gbestMom = min (xMom , key = lambda x : obj(x))\n",
    "\n",
    "################################################################################################\n",
    "for i in range (0, numIter) :\n",
    "    r1 = np.random.rand (Nx, 1)\n",
    "    r2 = np.random.rand (Nx, 1)\n",
    "    r1m = np.random.rand (Nx, 1)\n",
    "    r2m = np.random.rand (Nx, 1)\n",
    "    \n",
    "    vVan = w*vVan + c1*r1*(pbestVan - xVan) + c2*r2*(gbestVan - xVan)\n",
    "    xVan = xVan + vVan\n",
    "    \n",
    "    momvec = beta*momvec + (1 - beta)*vMom\n",
    "    vMom = momvec + c1*r1m*(pbestMom - xMom) + c2*r2m*(gbestMom - xMom)\n",
    "    xMom = xMom + vMom\n",
    "    \n",
    "    less = obj(xVan) < obj(pbestVan)\n",
    "    pbestVan[less] = xVan[less]\n",
    "    \n",
    "    less = obj(xMom) < obj(pbestMom)\n",
    "    pbestMom[less] = xMom[less]\n",
    "    \n",
    "    gbestVan = min (pbestVan, key = lambda x : obj(x))\n",
    "    gbestMom = min (pbestMom, key = lambda x : obj(x))\n",
    "    \n",
    "Mvan = -(c1*np.sum(r1) + c2*np.sum(r2))/(len(r1) * w)\n",
    "Mmom = -(c1*np.sum(r1m) + c2*np.sum(r2m))/(len(r1m) * w)\n",
    "\n",
    "def objDer_Van (x) :\n",
    "    return Mvan*(x - gbestVan)\n",
    "def objDer_Mom (x) :\n",
    "    return Mmom*(x - gbestMom)\n",
    "\n",
    "vec = np.linspace (-2, 1, 100)\n",
    "plt.plot (vec, objDer (vec), vec, objDer_Van(vec), vec, objDer_Mom(vec))\n",
    "plt.show()\n",
    "# Blue - Real derivative\n",
    "# Orange - Vanilla PSO derivative\n",
    "# Green - Momentum PSO derivative"
   ]
  }
 ],
 "metadata": {
  "kernelspec": {
   "display_name": "Python 3",
   "language": "python",
   "name": "python3"
  },
  "language_info": {
   "codemirror_mode": {
    "name": "ipython",
    "version": 3
   },
   "file_extension": ".py",
   "mimetype": "text/x-python",
   "name": "python",
   "nbconvert_exporter": "python",
   "pygments_lexer": "ipython3",
   "version": "3.8.3"
  }
 },
 "nbformat": 4,
 "nbformat_minor": 2
}
