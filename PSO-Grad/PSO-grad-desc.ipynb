{
 "cells": [
  {
   "cell_type": "markdown",
   "metadata": {},
   "source": [
    "# Function Definitions"
   ]
  },
  {
   "cell_type": "code",
   "execution_count": 91,
   "metadata": {},
   "outputs": [],
   "source": [
    "import numpy as np\n",
    "import matplotlib.pyplot as plt\n",
    "\n",
    "def approx (num, rel, tol, cmpr) :\n",
    "\t# Check if num is lower than relative\n",
    "\tif cmpr == -1 :\n",
    "\t\treturn (rel - num)/np.abs(rel) <= tol\n",
    "\n",
    "\t# Check absolute difference to relative\n",
    "\tif cmpr == 0 :\n",
    "\t\treturn np.abs(num - rel)/np.abs(rel) <= tol\n",
    "\n",
    "\t# Check if num is higher than relative\n",
    "\tif cmpr == 1 :\n",
    "\t\treturn (num - rel)/np.abs(rel) <= tol\n",
    "    \n",
    "x_min = 0\n",
    "\n",
    "def obj (x) :\n",
    "    global x_min\n",
    "    # objective 1  [x^2] ---> x_min = 0, f(x_min) = 0\n",
    "    # return np.square (x)\n",
    "    \n",
    "    # objective 2 [x^4 + x^3 - 10x^2 + x + 5] ---> x_min = -2.6629, f(x_min) = -37.1732\n",
    "    x_min = -2.6629\n",
    "    return np.power(x, 4) + np.power(x, 3) - 10*np.square(x) + x + 5\n",
    "    \n",
    "    # objective 3 [0.025*x^2 + sin(x)] ---> x_min = 1.49593, f(x_min) = -0.94125366117\n",
    "    # return 0.025*np.square(x) + np.sin(x)\n",
    "    \n",
    "    # objective 4 [-exp(cos(x^2)) + x^2] ---> x_min = 0, f(x_min) = -e\n",
    "    # x_min = 0\n",
    "    # return -np.exp(np.cos(np.square(x))) + np.square(x)\n",
    "    \n",
    "    # objective 5 [|x|]\n",
    "    # return np.abs(x)\n",
    "\n",
    "def objDer (x) :\n",
    "\t# Objective 1\n",
    "\t# return 2*x\n",
    "\n",
    "\t# Objective 2\n",
    "\treturn 4*np.power(x,3) + 3*np.power(x,2) - 20*x + 1\n",
    "\n",
    "\t# Objective 3\n",
    "\t# return 0.05*x + np.cos(x)\n",
    "    \n",
    "    # Objective 4\n",
    "    # return 2*x*(1 + np.sin(np.square(x)) * np.exp(np.cos(np.square(x))))\n",
    "    \n",
    "    # Objective 5\n",
    "    # der = np.ones (shape=x.shape)\n",
    "    # der[x<0] = -1\n",
    "    # return der"
   ]
  },
  {
   "cell_type": "markdown",
   "metadata": {},
   "source": [
    "# PSO Loop with Diagnostic Plots"
   ]
  },
  {
   "cell_type": "code",
   "execution_count": 92,
   "metadata": {},
   "outputs": [],
   "source": [
    "def psoGrad () :\n",
    "    Nx = 25\n",
    "    w = 0.1\n",
    "    c1 = 0.8\n",
    "    c2 = 0.9\n",
    "    beta = 0.9\n",
    "\n",
    "    left = -20 \n",
    "    right = 20\n",
    "    intervalLength = right - left\n",
    "\n",
    "    xVan = intervalLength * np.random.rand(Nx, 1) - intervalLength/2\n",
    "    vVan = intervalLength/100.0 * np.random.rand(Nx, 1) - intervalLength/(2*100)\n",
    "    xMom = intervalLength * np.random.rand(Nx, 1) - intervalLength/2\n",
    "    vMom = intervalLength/100.0 * np.random.rand(Nx, 1) - intervalLength/(2*100)\n",
    "    momvec = np.zeros(shape = (Nx, 1))\n",
    "    pbestVan = xVan\n",
    "    pbestMom = xMom\n",
    "\n",
    "    numIter = 100\n",
    "    gbestVan = min (xVan , key = lambda x : obj(x))\n",
    "    gbestMom = min (xMom , key = lambda x : obj(x))\n",
    "\n",
    "    ################################################################################################\n",
    "    for i in range (0, numIter) :\n",
    "        r1 = np.random.rand (Nx, 1)\n",
    "        r2 = np.random.rand (Nx, 1)\n",
    "        r1m = np.random.rand (Nx, 1)\n",
    "        r2m = np.random.rand (Nx, 1)\n",
    "\n",
    "        vVan = w*vVan + c1*r1*(pbestVan - xVan) + c2*r2*(gbestVan - xVan)\n",
    "        xVan = xVan + vVan\n",
    "\n",
    "        momvec = beta*momvec + (1 - beta)*vMom\n",
    "        vMom = momvec + c1*r1m*(pbestMom - xMom) + c2*r2m*(gbestMom - xMom)\n",
    "        xMom = xMom + vMom\n",
    "\n",
    "        less = obj(xVan) < obj(pbestVan)\n",
    "        pbestVan[less] = xVan[less]\n",
    "\n",
    "        less = obj(xMom) < obj(pbestMom)\n",
    "        pbestMom[less] = xMom[less]\n",
    "\n",
    "        gbestVan = min (pbestVan, key = lambda x : obj(x))\n",
    "        gbestMom = min (pbestMom, key = lambda x : obj(x))\n",
    "\n",
    "    Mvan = -(c1*np.sum(r1) + c2*np.sum(r2))/(len(r1) * w)\n",
    "    Mmom = -(c1*np.sum(r1m) + c2*np.sum(r2m))/(len(r1m) * w)\n",
    "    \n",
    "    return ((lambda x : Mvan*(x - gbestVan[0]), w), (lambda x : Mmom*(x - gbestMom[0]), 1-beta))"
   ]
  },
  {
   "cell_type": "markdown",
   "metadata": {},
   "source": [
    "# Gradient Descent with PSO parameters"
   ]
  },
  {
   "cell_type": "markdown",
   "metadata": {},
   "source": [
    "## Obtaining approximate gradient function"
   ]
  },
  {
   "cell_type": "code",
   "execution_count": 97,
   "metadata": {},
   "outputs": [],
   "source": [
    "xg = xv = xm = 10\n",
    "(vanGrad, etav), (momGrad, etam) = psoGrad ()\n",
    "iters = 50\n",
    "eta = 0.1"
   ]
  },
  {
   "cell_type": "markdown",
   "metadata": {},
   "source": [
    "## Vanilla PSO-Grad"
   ]
  },
  {
   "cell_type": "code",
   "execution_count": 98,
   "metadata": {},
   "outputs": [
    {
     "name": "stdout",
     "output_type": "stream",
     "text": [
      "Count for vanilla PSO-grad = 6\n"
     ]
    }
   ],
   "source": [
    "cnt = 0\n",
    "while not approx (xv, x_min, 1e-3, 0) :\n",
    "    xv += etav * vanGrad (xv)\n",
    "    # print (xv)\n",
    "    cnt += 1\n",
    "    \n",
    "print (\"Count for vanilla PSO-grad = \" + str(cnt))"
   ]
  },
  {
   "cell_type": "markdown",
   "metadata": {},
   "source": [
    "## Momentum PSO-Grad"
   ]
  },
  {
   "cell_type": "code",
   "execution_count": 99,
   "metadata": {},
   "outputs": [
    {
     "name": "stdout",
     "output_type": "stream",
     "text": [
      "Count for momentum PSO-grad = 4\n"
     ]
    }
   ],
   "source": [
    "cnt = 0\n",
    "while not approx (xm, x_min, 1e-3, 0) :\n",
    "    xm += etam * momGrad (xm)\n",
    "    # print (xm)\n",
    "    cnt += 1\n",
    "    \n",
    "print (\"Count for momentum PSO-grad = \" + str(cnt))"
   ]
  },
  {
   "cell_type": "markdown",
   "metadata": {},
   "source": [
    "## Simple Gradient Descent"
   ]
  },
  {
   "cell_type": "code",
   "execution_count": 100,
   "metadata": {},
   "outputs": [
    {
     "name": "stdout",
     "output_type": "stream",
     "text": [
      "Count for simple gradient = 4892\n"
     ]
    }
   ],
   "source": [
    "cnt = 0\n",
    "while not approx (xg, x_min, 1e-3, 0) :\n",
    "    xg -= eta * objDer (xm)\n",
    "    cnt += 1\n",
    "    \n",
    "print (\"Count for simple gradient = \" + str(cnt))"
   ]
  }
 ],
 "metadata": {
  "kernelspec": {
   "display_name": "Python 3",
   "language": "python",
   "name": "python3"
  },
  "language_info": {
   "codemirror_mode": {
    "name": "ipython",
    "version": 3
   },
   "file_extension": ".py",
   "mimetype": "text/x-python",
   "name": "python",
   "nbconvert_exporter": "python",
   "pygments_lexer": "ipython3",
   "version": "3.8.3"
  }
 },
 "nbformat": 4,
 "nbformat_minor": 2
}
