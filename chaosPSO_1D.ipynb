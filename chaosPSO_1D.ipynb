{
 "cells": [
  {
   "cell_type": "markdown",
   "metadata": {},
   "source": [
    "# Function Definitions"
   ]
  },
  {
   "cell_type": "code",
   "execution_count": 36,
   "metadata": {},
   "outputs": [],
   "source": [
    "import numpy as np\n",
    "\n",
    "def obj (x) :\n",
    "    return np.square (x) # x^2\n",
    "    #return np.power(x, 4) + np.power(x, 3) - 10*np.square(x) + x + 5 # x^4 + x^3 - 4x^2 + x + 5\n",
    "\n",
    "def logistic (x, r) :\n",
    "    return r * x * (1 - x) \n",
    "\n",
    "def getTimeSeries (length, r) :\n",
    "    x0 = 0.01\n",
    "    n = np.arange (1, length+1)\n",
    "    xs = [x0]\n",
    "    x = x0\n",
    "    \n",
    "    for i in range (1, length) :\n",
    "        x = logistic (x, r)\n",
    "        xs.append (x)\n",
    "        \n",
    "    xs = np.array (xs)\n",
    "    return (n, xs)\n",
    "\n",
    "def getChaosPoints (num, r) :\n",
    "    if num < 1000 :\n",
    "        seriesLength = 1000\n",
    "    else :\n",
    "        seriesLength = 2*num \n",
    "        \n",
    "    return getTimeSeries (seriesLength, r)[1][-num:]"
   ]
  },
  {
   "cell_type": "code",
   "execution_count": 37,
   "metadata": {},
   "outputs": [],
   "source": [
    "Nx = 10\n",
    "w = 0.7\n",
    "c1 = 1.5\n",
    "c2 = 1.5\n",
    "r1 = np.random.rand ()\n",
    "r2 = np.random.rand ()"
   ]
  },
  {
   "cell_type": "markdown",
   "metadata": {},
   "source": [
    "# Initialise particles"
   ]
  },
  {
   "cell_type": "code",
   "execution_count": 38,
   "metadata": {},
   "outputs": [],
   "source": [
    "xVan = 20 * np.random.rand(Nx, 1) - 10\n",
    "vVan = 20 * np.random.rand(Nx, 1) - 10\n",
    "\n",
    "xChaos = 20 * getChaosPoints (Nx, 4) - 10\n",
    "xChaos = np.reshape (xChaos, (-1,1))\n",
    "vChaos = 20 * getChaosPoints (Nx, 4) - 10\n",
    "vChaos = np.reshape (vChaos, (-1,1))"
   ]
  },
  {
   "cell_type": "code",
   "execution_count": 39,
   "metadata": {},
   "outputs": [],
   "source": [
    "pbestVan = xVan\n",
    "pbestChaos = xChaos\n",
    "\n",
    "gbestVan = min (xVan , key = lambda x : obj(x))\n",
    "gbestChaos = min (xChaos, key = lambda x : obj(x))"
   ]
  },
  {
   "cell_type": "markdown",
   "metadata": {},
   "source": [
    "# Optimization Loop"
   ]
  },
  {
   "cell_type": "code",
   "execution_count": 40,
   "metadata": {},
   "outputs": [],
   "source": [
    "for i in range (0, 10) :\n",
    "    vVan = w*vVan + c1*r1*(pbestVan - xVan) + c2*r2*(gbestVan - xVan)\n",
    "    vChaos = w*vChaos + c1*r1*(pbestChaos - xChaos) + c2*r2*(gbestChaos - xChaos)\n",
    "    xVan = xVan + vVan\n",
    "    xChaos = xChaos + vChaos\n",
    "    \n",
    "    gbestVan = min (xVan , key = lambda x : obj(x))\n",
    "    gbestChaos = min (xChaos , key = lambda x : obj(x))\n",
    "    \n",
    "    less = obj(xVan) < obj(pbestVan)\n",
    "    pbestVan = less * xVan + np.invert (less) * pbestVan\n",
    "    less = obj(xChaos) < obj(pbestChaos)\n",
    "    pbestChaos = less * xChaos + np.invert (less) * pbestChaos"
   ]
  },
  {
   "cell_type": "code",
   "execution_count": 41,
   "metadata": {},
   "outputs": [
    {
     "name": "stdout",
     "output_type": "stream",
     "text": [
      "[-0.02902211]\n",
      "[0.05023783]\n"
     ]
    }
   ],
   "source": [
    "print (gbestVan)\n",
    "print (gbestChaos)"
   ]
  }
 ],
 "metadata": {
  "kernelspec": {
   "display_name": "Python 3",
   "language": "python",
   "name": "python3"
  },
  "language_info": {
   "codemirror_mode": {
    "name": "ipython",
    "version": 3
   },
   "file_extension": ".py",
   "mimetype": "text/x-python",
   "name": "python",
   "nbconvert_exporter": "python",
   "pygments_lexer": "ipython3",
   "version": "3.7.3"
  }
 },
 "nbformat": 4,
 "nbformat_minor": 2
}
