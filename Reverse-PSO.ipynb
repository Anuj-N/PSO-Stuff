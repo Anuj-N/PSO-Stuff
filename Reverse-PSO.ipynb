{
 "cells": [
  {
   "cell_type": "markdown",
   "metadata": {},
   "source": [
    "# Imports"
   ]
  },
  {
   "cell_type": "code",
   "execution_count": 325,
   "metadata": {},
   "outputs": [],
   "source": [
    "import numpy as np\n",
    "import time\n",
    "from numpy.linalg import inv"
   ]
  },
  {
   "cell_type": "code",
   "execution_count": 326,
   "metadata": {},
   "outputs": [],
   "source": [
    "def obj (x) :\n",
    "    return np.power(x, 4) + np.power(x, 3) - 10*np.square(x) + x + 5"
   ]
  },
  {
   "cell_type": "markdown",
   "metadata": {},
   "source": [
    "# Naive"
   ]
  },
  {
   "cell_type": "code",
   "execution_count": 368,
   "metadata": {},
   "outputs": [
    {
     "name": "stdout",
     "output_type": "stream",
     "text": [
      "[[-2.6628907 ]\n",
      " [-2.66289252]\n",
      " [-2.66289547]\n",
      " [-2.66289948]\n",
      " [-2.66289704]]\n",
      "[[1.05852703e-06]\n",
      " [4.77887310e-08]\n",
      " [9.99247787e-06]\n",
      " [8.69587330e-06]\n",
      " [5.10201079e-06]]\n"
     ]
    }
   ],
   "source": [
    "x_min = -2.6629\n",
    "noParticles = 5\n",
    "w = 0.1\n",
    "c1 = 2\n",
    "c2 = 2\n",
    "r1 = np.random.rand (noParticles, 1)\n",
    "r2 = np.random.rand (noParticles, 1)\n",
    "\n",
    "eps = 0.00001\n",
    "xs = eps*np.random.rand(noParticles, 1) + x_min\n",
    "vs = eps*np.random.rand(noParticles, 1)\n",
    "\n",
    "print (xs)\n",
    "print (vs)"
   ]
  },
  {
   "cell_type": "code",
   "execution_count": 369,
   "metadata": {},
   "outputs": [],
   "source": [
    "noIter = 10\n",
    "\n",
    "xsave = xs\n",
    "vsave = vs\n",
    "\n",
    "for i in range(0, noIter) :\n",
    "    mats = [np.array ([\n",
    "    [1, 1, 0], [-(c1*rr1 + c2*rr2), w, (c1*rr1 + c2*rr2)*x_min], [0, 0, 1]\n",
    "    ]) for rr1,rr2 in zip(r1[:,0], r2[:,0])]\n",
    "\n",
    "    vecs = np.array ([np.dot (m, np.array([x, v, 1])) for m, x, v in zip (mats, xs[:,0], vs[:,0])])\n",
    "\n",
    "    xs = vecs[:,0].reshape (-1, 1)\n",
    "    vs = vecs[:,1].reshape (-1, 1)"
   ]
  },
  {
   "cell_type": "code",
   "execution_count": 370,
   "metadata": {},
   "outputs": [
    {
     "name": "stdout",
     "output_type": "stream",
     "text": [
      "[[2.88051574e-05]\n",
      " [4.67401935e-04]\n",
      " [1.31178773e-05]\n",
      " [7.12212624e-07]\n",
      " [5.18696553e-05]]\n",
      "[[1.20729589e-04]\n",
      " [4.54966681e-04]\n",
      " [3.58482477e-06]\n",
      " [3.84990401e-06]\n",
      " [2.87881051e-04]]\n"
     ]
    }
   ],
   "source": [
    "xper = (xs - xsave)/xsave * 100\n",
    "vper = (vs - vsave)/vsave * 100\n",
    "\n",
    "print (np.abs(xs - x_min))\n",
    "print (np.abs(vs))"
   ]
  }
 ],
 "metadata": {
  "kernelspec": {
   "display_name": "Python 3",
   "language": "python",
   "name": "python3"
  },
  "language_info": {
   "codemirror_mode": {
    "name": "ipython",
    "version": 3
   },
   "file_extension": ".py",
   "mimetype": "text/x-python",
   "name": "python",
   "nbconvert_exporter": "python",
   "pygments_lexer": "ipython3",
   "version": "3.7.3"
  }
 },
 "nbformat": 4,
 "nbformat_minor": 2
}
