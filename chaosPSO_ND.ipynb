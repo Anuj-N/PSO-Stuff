{
 "cells": [
  {
   "cell_type": "markdown",
   "metadata": {},
   "source": [
    "# Objective Function"
   ]
  },
  {
   "cell_type": "code",
   "execution_count": 3,
   "metadata": {},
   "outputs": [],
   "source": [
    "import numpy as np\n",
    "\n",
    "def sphere (x) :\n",
    "    return np.sum (np.square(x), axis=1)\n",
    "\n",
    "def rastrigin (x) :\n",
    "    A = 10\n",
    "    return A*x.shape[1] + np.sum(np.square(x) - A*np.cos(2*np.pi*x) , axis=1)"
   ]
  },
  {
   "cell_type": "markdown",
   "metadata": {},
   "source": [
    "# Chaos Definition"
   ]
  },
  {
   "cell_type": "code",
   "execution_count": 4,
   "metadata": {},
   "outputs": [],
   "source": [
    "def logisticMap (x, r) :\n",
    "    return r * x * (1 - x) \n",
    "\n",
    "def tentMap (x, mu) :\n",
    "    if x <= mu :\n",
    "        return x/mu\n",
    "    else :\n",
    "        return (1-x)/(1-mu)\n",
    "\n",
    "def lorenzFlow (initCond, param, t_end, length) :\n",
    "    from scipy.integrate import odeint\n",
    "    def lorenz (X, t, sigma, beta, rho) :\n",
    "        x, y, z = X\n",
    "        dXdt = [sigma*(y - x), x*(rho - z) - y, x*y - beta*z]\n",
    "        return dXdt\n",
    "\n",
    "    X0 = initCond\n",
    "    t = np.linspace (0, t_end, length)\n",
    "    return odeint (lorenz, X0, t, args = param)\n",
    "\n",
    "class chaosGenerator :    \n",
    "    def setLorenz (self, sol) :\n",
    "        self.x0 = sol[-1,0]\n",
    "        self.y0 = sol[-1,1]\n",
    "        self.z0 = sol[-1,2]\n",
    "    \n",
    "    def __init__ (self, cmap) :\n",
    "        \n",
    "        self.cmap = cmap\n",
    "        \n",
    "        if cmap[0] == \"logistic\" or cmap[0] == \"tent\" :\n",
    "            self.x0 = 0.01\n",
    "            iterate = 1000 + int(np.random.rand() * 10000)\n",
    "            funcMap = logisticMap if cmap[0] == \"logistic\" else tentMap\n",
    "            for i in range (1, iterate) :\n",
    "                self.x0 = funcMap (self.x0, cmap[1])\n",
    "                \n",
    "        elif cmap[0] == \"lorenz\" :\n",
    "            self.x0 = np.random.rand ()\n",
    "            self.y0 = np.random.rand ()\n",
    "            self.z0 = np.random.rand ()\n",
    "            sol = lorenzFlow ([self.x0, self.y0, self.z0], cmap[1], 1000, 100000)\n",
    "            self.xmin = min(sol[:,0])\n",
    "            self.xmax = max(sol[:,0])\n",
    "            self.setLorenz (sol)\n",
    "                \n",
    "    def getTimeSeries (self, length) :\n",
    "        if self.cmap[0] == \"logistic\" or self.cmap[0] == \"tent\" :\n",
    "            n = np.arange (1, length + 1)\n",
    "            xs = [self.x0]\n",
    "            x = self.x0\n",
    "            \n",
    "            funcMap = logisticMap if cmap[0] == \"logistic\" else tentMap\n",
    "            for i in range (1, length) :\n",
    "                x = funcMap (x, self.cmap[1])\n",
    "                xs.append (x)\n",
    "\n",
    "            xs = np.array (xs)\n",
    "            self.x0 = xs[-1]\n",
    "            xs = np.reshape (xs, (-1, 1))\n",
    "            \n",
    "        elif self.cmap[0] == \"lorenz\" :\n",
    "            sol = lorenzFlow ([self.x0, self.y0, self.z0], cmap[1], length, length * 100)\n",
    "            inds = np.arange (0, length*100, 100).astype (int)\n",
    "            xs = np.reshape (sol[:,0][inds], (-1, 1))\n",
    "            xs = (xs - self.xmin)/(self.xmax - self.xmin)\n",
    "            \n",
    "            self.setLorenz (sol)\n",
    "            \n",
    "        return xs\n",
    "\n",
    "    def getChaosPoints (self, shape) :\n",
    "        prod = 1\n",
    "        for i in range(0, len(shape)) :\n",
    "            prod *= shape[i]\n",
    "            \n",
    "        return self.getTimeSeries(prod).reshape(shape)\n",
    "    \n",
    "    def chaosRand (self) :\n",
    "        if self.cmap[0] == \"logistic\" or self.cmap[0] == \"tent\" :\n",
    "            funcMap = logisticMap if cmap[0] == \"logistic\" else tentMap\n",
    "            self.x0 = funcMap (self.x0, cmap[1])\n",
    "            \n",
    "            return self.x0\n",
    "        elif self.cmap[0] == \"lorenz\" :\n",
    "            sol = lorenzFlow ([self.x0, self.y0, self.z0], cmap[1], 0.02, 2)\n",
    "            self.setLorenz (sol)\n",
    "            \n",
    "            retx0 = (self.x0 - self.xmin)/(self.xmax - self.xmin)\n",
    "            retx0 = 0 if retx0 < 0 else (1 if retx0 > 1 else retx0) \n",
    "            \n",
    "            return retx0"
   ]
  },
  {
   "cell_type": "markdown",
   "metadata": {},
   "source": [
    "## Update parameters"
   ]
  },
  {
   "cell_type": "code",
   "execution_count": 29,
   "metadata": {},
   "outputs": [],
   "source": [
    "D = 5\n",
    "Np = 20\n",
    "w = 0.5\n",
    "c1 = 2\n",
    "c2 = 2"
   ]
  },
  {
   "cell_type": "code",
   "execution_count": 44,
   "metadata": {},
   "outputs": [
    {
     "name": "stdout",
     "output_type": "stream",
     "text": [
      "[ 3.92759506 -0.90578241  4.79951493 -3.87818107 -0.75511268]\n"
     ]
    }
   ],
   "source": [
    "# cmap = [\"lorenz\", (10, 8.0/3, 28)]\n",
    "cmap = [\"logistic\", 4]\n",
    "chaosMan = chaosGenerator (cmap)\n",
    "\n",
    "particles = 10.24 * chaosMan.getChaosPoints ((Np, D)) - 5.12\n",
    "velocity = chaosMan.getChaosPoints ((Np, D))\n",
    "pbest = particles\n",
    "obj = rastrigin\n",
    "\n",
    "gbest = min (particles , key = lambda x : obj(x.reshape(1,-1))[0])\n",
    "print (gbest)"
   ]
  },
  {
   "cell_type": "code",
   "execution_count": 45,
   "metadata": {},
   "outputs": [
    {
     "name": "stdout",
     "output_type": "stream",
     "text": [
      "f[ 9.95127335e-01  2.00517418e-05 -1.48840297e-04 -3.95796301e-04\n",
      "  8.77540959e-05] = 0.9950017819948371\n"
     ]
    }
   ],
   "source": [
    "for i in range (0, 1000) :\n",
    "    r1 = chaosMan.getChaosPoints ((Np,D))\n",
    "    r2 = chaosMan.getChaosPoints ((Np,D))\n",
    "    velocity = w*velocity + c1*r1*(pbest - particles) + c2*r2*(gbest - particles)\n",
    "    particles = particles + velocity\n",
    "        \n",
    "    less = obj(particles) < obj(pbest)\n",
    "    pbest[less] = particles[less]\n",
    "    \n",
    "    gbest = min (pbest , key = lambda x : obj(x.reshape(1,-1))[0])\n",
    "    \n",
    "print (\"f\" + str(gbest) + \" = \" + str(obj(gbest.reshape(1,-1))[0]))"
   ]
  }
 ],
 "metadata": {
  "kernelspec": {
   "display_name": "Python 3",
   "language": "python",
   "name": "python3"
  },
  "language_info": {
   "codemirror_mode": {
    "name": "ipython",
    "version": 3
   },
   "file_extension": ".py",
   "mimetype": "text/x-python",
   "name": "python",
   "nbconvert_exporter": "python",
   "pygments_lexer": "ipython3",
   "version": "3.7.9"
  }
 },
 "nbformat": 4,
 "nbformat_minor": 2
}
