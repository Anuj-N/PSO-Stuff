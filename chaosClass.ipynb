{
 "cells": [
  {
   "cell_type": "markdown",
   "metadata": {},
   "source": [
    "## Chaos Base Class definition"
   ]
  },
  {
   "cell_type": "code",
   "execution_count": null,
   "metadata": {},
   "outputs": [],
   "source": [
    "import numpy as np\n",
    "\n",
    "class ChaosGen () :    \n",
    "    def __init__ (self, *args) :\n",
    "        if len(args) > 0 :\n",
    "            self.vec = np.random.random_sample (args[0])\n",
    "            self.shape = args[0]\n",
    "        else :\n",
    "            self.vec = None\n",
    "            self.shape = None\n",
    "            \n",
    "    def getIterate (self) :\n",
    "        return self.vec\n",
    "                 \n",
    "    def chaosPoints (self, steps=1) :\n",
    "        ret = self.vec\n",
    "        self.evolveSteps (steps)\n",
    "        return ret\n",
    "    \n",
    "    def evolve (self) :\n",
    "        ''' Defined in the specific chaotic classes '''\n",
    "        pass\n",
    "    \n",
    "    def evolveSteps (self, steps) :\n",
    "        for i in range(0, steps) :\n",
    "            self.evolve ()"
   ]
  },
  {
   "cell_type": "markdown",
   "metadata": {},
   "source": [
    "## Logistic Class"
   ]
  },
  {
   "cell_type": "code",
   "execution_count": null,
   "metadata": {},
   "outputs": [],
   "source": [
    "class Logistic (ChaosGen) :\n",
    "    def __init__ (self, shape, r=4) :\n",
    "        ChaosGen.__init__(self, shape)\n",
    "        self.r = r\n",
    "        \n",
    "    def evolve (self) :\n",
    "        self.vec = self.r*self.vec*(1-self.vec)"
   ]
  },
  {
   "cell_type": "markdown",
   "metadata": {},
   "source": [
    "## Tent Class"
   ]
  },
  {
   "cell_type": "code",
   "execution_count": null,
   "metadata": {},
   "outputs": [],
   "source": [
    "class Tent (ChaosGen) :\n",
    "    def __init__ (self, shape, mu=0.49999) :\n",
    "        ChaosGen.__init__(self, shape)\n",
    "        self.mu = mu\n",
    "        \n",
    "    def evolve (self) :\n",
    "        self.vec = np.where (self.vec <= self.mu, self.vec/self.mu, (1-self.vec)/(1-self.mu))"
   ]
  },
  {
   "cell_type": "markdown",
   "metadata": {},
   "source": [
    "## Lorenz Class"
   ]
  },
  {
   "cell_type": "code",
   "execution_count": null,
   "metadata": {},
   "outputs": [],
   "source": [
    "from scipy.integrate import odeint\n",
    "\n",
    "class Lorenz (ChaosGen) :\n",
    "    def lorenz (X, t, sigma, beta, rho) :\n",
    "        x, y, z = X\n",
    "        dXdt = [sigma*(y-x), x*(rho-z) - y, x*y - beta*z]\n",
    "        return dXdt\n",
    "    \n",
    "    def __init__ (self, shape, params=(10, 8.0/3, 28)) :\n",
    "        ChaosGen.__init__(self)\n",
    "        self.shape = shape\n",
    "        self.params = params\n",
    "        \n",
    "        t = np.linspace (0, 9999, 999999)\n",
    "        sol = odeint (Lorenz.lorenz, np.random.rand(3), t, args = params)\n",
    "        self.lims = np.array ([\n",
    "                            [np.min(sol[:,0]), np.max(sol[:,0])],\n",
    "                            [np.min(sol[:,1]), np.max(sol[:,1])],\n",
    "                            [np.min(sol[:,2]), np.max(sol[:,2])]\n",
    "                                ])\n",
    "        \n",
    "        self.state = np.empty (shape + (3,))\n",
    "        self.vec = np.random.random_sample (shape)\n",
    "        \n",
    "        scaleState = (lambda mn, mx, st=np.random.random_sample (shape) : mn + (mx - mn)*st)\n",
    "        self.state[...,0] = scaleState (self.lims[0,0], self.lims[0,1], self.vec)\n",
    "        self.state[...,1] = scaleState (self.lims[1,0], self.lims[1,1])\n",
    "        self.state[...,2] = scaleState (self.lims[2,0], self.lims[2,1])\n",
    "        \n",
    "        \n",
    "    def evolveSteps (self, steps) :\n",
    "        eps = 1e-5\n",
    "        self.state = np.array ([\\\n",
    "                odeint(Lorenz.lorenz, self.state[pt], np.arange(0,0.01*(steps+1),0.01), args=self.params)[-1]\\\n",
    "                for pt in np.ndindex(self.shape)\\\n",
    "                ]).reshape(self.shape + (3,))\n",
    "        \n",
    "        self.vec = (lambda n2 : np.where (n2 > 1, 1-eps, n2))(\\\n",
    "                (lambda n1 : np.where (n1 < 0, eps, n1))(\\\n",
    "                (lambda st, mn, mx : (st - mn)/(mx - mn))(self.state[...,0], self.lims[0][0], self.lims[0][1])\\\n",
    "                ))\n",
    "        \n",
    "        \n",
    "    def evolve (self) :\n",
    "        self.evolveSteps (1)"
   ]
  },
  {
   "cell_type": "markdown",
   "metadata": {},
   "source": [
    "## Initialising Chaotic Generators"
   ]
  },
  {
   "cell_type": "code",
   "execution_count": null,
   "metadata": {
    "scrolled": false
   },
   "outputs": [],
   "source": [
    "chaos1 = Lorenz ((4,5))\n",
    "chaos2 = Tent ((4,5))\n",
    "chaos3 = Logistic ((4,5))"
   ]
  },
  {
   "cell_type": "markdown",
   "metadata": {},
   "source": [
    "## Generating Chaotic Numbers"
   ]
  },
  {
   "cell_type": "code",
   "execution_count": null,
   "metadata": {},
   "outputs": [],
   "source": [
    "# print (\"Lorenz = \\n\" + str(chaos1.chaosPoints()))\n",
    "# print (\"Tent = \\n\" + str(chaos2.chaosPoints()))\n",
    "print (\"Logistic = \\n\" + str(chaos3.chaosPoints()))"
   ]
  }
 ],
 "metadata": {
  "kernelspec": {
   "display_name": "Python 3",
   "language": "python",
   "name": "python3"
  },
  "language_info": {
   "codemirror_mode": {
    "name": "ipython",
    "version": 3
   },
   "file_extension": ".py",
   "mimetype": "text/x-python",
   "name": "python",
   "nbconvert_exporter": "python",
   "pygments_lexer": "ipython3",
   "version": "3.8.3"
  }
 },
 "nbformat": 4,
 "nbformat_minor": 2
}
