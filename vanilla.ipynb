{
 "cells": [
  {
   "cell_type": "markdown",
   "metadata": {},
   "source": [
    "## Objective Function"
   ]
  },
  {
   "cell_type": "code",
   "execution_count": 48,
   "metadata": {},
   "outputs": [],
   "source": [
    "import numpy as np\n",
    "\n",
    "def obj (x) :\n",
    "    return np.square (x[:,0]) + np.square (x[:,1])"
   ]
  },
  {
   "cell_type": "markdown",
   "metadata": {},
   "source": [
    "## Update parameters"
   ]
  },
  {
   "cell_type": "code",
   "execution_count": 96,
   "metadata": {},
   "outputs": [],
   "source": [
    "Np = 5\n",
    "w = 0.7\n",
    "c1 = 1.5\n",
    "c2 = 1.5\n",
    "r1 = np.random.rand (1,2)\n",
    "r2 = np.random.rand (1,2)"
   ]
  },
  {
   "cell_type": "code",
   "execution_count": 97,
   "metadata": {},
   "outputs": [],
   "source": [
    "particles = 20 * np.random.rand(5, 2) - 10\n",
    "velocity = 20 * np.random.rand(5, 2) - 10\n",
    "pbest = particles\n",
    "\n",
    "gbest = min (particles , key = lambda x : obj(x.reshape(1,2))[0])"
   ]
  },
  {
   "cell_type": "code",
   "execution_count": 98,
   "metadata": {},
   "outputs": [
    {
     "name": "stdout",
     "output_type": "stream",
     "text": [
      "[[ 2.03235876e-14 -2.69431961e-19]\n",
      " [ 2.03235876e-14 -2.69431961e-19]\n",
      " [ 2.03235876e-14 -2.69431961e-19]\n",
      " [ 2.03235876e-14 -2.69431961e-19]\n",
      " [ 2.03235876e-14 -2.69431961e-19]]\n"
     ]
    }
   ],
   "source": [
    "for i in range (0, 1000) :\n",
    "    velocity = w*velocity + c1*r1*(pbest - particles) + c2*r2*(gbest - particles)\n",
    "    particles = particles + velocity\n",
    "    \n",
    "    gbest = min (particles , key = lambda x : obj(x.reshape(1,2))[0])\n",
    "    less = (obj(particles) < obj(pbest)).reshape (-1,1)\n",
    "    \n",
    "    pbest = less * particles + np.invert (less) * pbest\n",
    "    \n",
    "print (particles)"
   ]
  }
 ],
 "metadata": {
  "kernelspec": {
   "display_name": "Python 3",
   "language": "python",
   "name": "python3"
  },
  "language_info": {
   "codemirror_mode": {
    "name": "ipython",
    "version": 3
   },
   "file_extension": ".py",
   "mimetype": "text/x-python",
   "name": "python",
   "nbconvert_exporter": "python",
   "pygments_lexer": "ipython3",
   "version": "3.7.3"
  }
 },
 "nbformat": 4,
 "nbformat_minor": 2
}
