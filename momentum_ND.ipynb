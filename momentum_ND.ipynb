{
 "cells": [
  {
   "cell_type": "code",
   "execution_count": null,
   "metadata": {},
   "outputs": [],
   "source": [
    "import numpy as np\n",
    "\n",
    "def sphere (x) :\n",
    "    return np.sum (np.square(x), axis=1)\n",
    "\n",
    "def rastrigin (x) :\n",
    "    A = 10\n",
    "    return A*x.shape[1] + np.sum(np.square(x) - A*np.cos(2*np.pi*x) , axis=1)"
   ]
  },
  {
   "cell_type": "markdown",
   "metadata": {},
   "source": [
    "# Initialise parameters"
   ]
  },
  {
   "cell_type": "code",
   "execution_count": null,
   "metadata": {},
   "outputs": [],
   "source": [
    "D = 5\n",
    "Np = 25\n",
    "w = 0.1\n",
    "c1 = 2\n",
    "c2 = 2\n",
    "beta = 0.9"
   ]
  },
  {
   "cell_type": "markdown",
   "metadata": {},
   "source": [
    "# Initialise particles and velocities"
   ]
  },
  {
   "cell_type": "code",
   "execution_count": null,
   "metadata": {},
   "outputs": [],
   "source": [
    "particles = 20 * np.random.rand(Np, D) - 10\n",
    "velocity = np.random.rand(Np, D)\n",
    "momentum = np.zeros (shape=(Np,D))\n",
    "pbest = particles\n",
    "obj = sphere\n",
    "\n",
    "gbest = min (particles , key = lambda x : obj(x.reshape(1,-1))[0])"
   ]
  },
  {
   "cell_type": "markdown",
   "metadata": {},
   "source": [
    "# Optimization loop"
   ]
  },
  {
   "cell_type": "code",
   "execution_count": null,
   "metadata": {},
   "outputs": [],
   "source": [
    "for i in range (0, 500) :\n",
    "    r1 = np.random.rand (Np, D)\n",
    "    r2 = np.random.rand (Np, D)\n",
    "    \n",
    "    momentum = beta*momentum + (1-beta)*velocity\n",
    "    velocity = momentum + c1*r1*(pbest - particles) + c2*r2*(gbest - particles)\n",
    "    particles = particles + velocity\n",
    "        \n",
    "    less = obj(particles) < obj(pbest)\n",
    "    pbest[less] = particles[less]\n",
    "    gbest = min (pbest , key = lambda x : obj(x.reshape(1,-1))[0])\n",
    "    \n",
    "print (\"f\" + str(gbest) + \" = \" + str(obj(gbest.reshape(1,-1))[0]))"
   ]
  }
 ],
 "metadata": {
  "kernelspec": {
   "display_name": "Python 3",
   "language": "python",
   "name": "python3"
  },
  "language_info": {
   "codemirror_mode": {
    "name": "ipython",
    "version": 3
   },
   "file_extension": ".py",
   "mimetype": "text/x-python",
   "name": "python",
   "nbconvert_exporter": "python",
   "pygments_lexer": "ipython3",
   "version": "3.7.9"
  }
 },
 "nbformat": 4,
 "nbformat_minor": 2
}
