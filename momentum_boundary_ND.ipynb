{
 "cells": [
  {
   "cell_type": "code",
   "execution_count": 19,
   "metadata": {},
   "outputs": [],
   "source": [
    "import numpy as np\n",
    "import time\n",
    "\n",
    "def sphere (x) :\n",
    "    return np.sum (np.square(x), axis=1)\n",
    "\n",
    "def rastrigin (x) :\n",
    "    A = 10\n",
    "    return A*x.shape[1] + np.sum(np.square(x) - A*np.cos(2*np.pi*x) , axis=1)\n",
    "\n",
    "def alpine (x) :\n",
    "    return -np.prod (np.sqrt(x)*np.sin(x), axis=1)"
   ]
  },
  {
   "cell_type": "markdown",
   "metadata": {},
   "source": [
    "# Inverse Parabolic Confined Distribution"
   ]
  },
  {
   "cell_type": "code",
   "execution_count": 20,
   "metadata": {
    "scrolled": true
   },
   "outputs": [],
   "source": [
    "def pso (obj, llim, rlim, Np=25, w=0.7, c1=2, c2=2, alpha=1.2, beta=0.9) :    \n",
    "    def ipcd (particle, part, velocity) :\n",
    "        nonlocal llim, rlim\n",
    "        \n",
    "        leftvio = part < llim\n",
    "        rightvio = part > rlim\n",
    "        leftRight = np.logical_or(part < llim, part > rlim)\n",
    "        vio = np.sum (leftRight, axis=1).astype(bool)\n",
    "        viosum = np.sum(vio)\n",
    "\n",
    "        if viosum == 0 :\n",
    "            return part, velocity\n",
    "\n",
    "        leftvio = leftvio[vio]\n",
    "        rightvio = rightvio[vio]\n",
    "        partV = part[vio]\n",
    "        particleV = particles[vio]\n",
    "\n",
    "        limvec = np.copy(partV)\n",
    "        limvec[leftvio] = np.tile (llim, (viosum, 1))[leftvio]\n",
    "        limvec[rightvio] = np.tile (rlim, (viosum, 1))[rightvio]\n",
    "\n",
    "        diff = partV - particleV\n",
    "        Xnot = np.sqrt (np.sum (np.square(diff), axis=1, keepdims=True))\n",
    "        kvec = np.min (np.where (diff == 0, 1, (limvec - particleV)/diff), axis=1, keepdims=True) \n",
    "\n",
    "        bvec = particleV + np.where (diff == 0, 0, kvec*diff)\n",
    "        dvec = np.sqrt (np.sum (np.square(partV - bvec), axis=1, keepdims=True))\n",
    "\n",
    "        Xpp = dvec + alpha*dvec*np.tan(np.random.rand(viosum).reshape(-1,1)*np.arctan((Xnot - dvec)/(alpha * dvec)))\n",
    "        boundk = (Xnot - Xpp)/Xnot\n",
    "\n",
    "        part[vio] = particleV + np.where (diff == 0, 0, boundk*diff)\n",
    "        velocity[leftRight] *= -1\n",
    "        return part, velocity\n",
    "    \n",
    "    D = len(llim)\n",
    "    particles = np.array ([l + (r-l)*np.random.rand(Np) for l, r in zip(llim, rlim)]).transpose()\n",
    "    velocity = np.random.rand(Np, D)\n",
    "    momentum = np.zeros (shape=particles.shape)\n",
    "    pbest = particles\n",
    "    gbest = min (particles , key = lambda x : obj(x.reshape(1,-1))[0])\n",
    "\n",
    "    for i in range (0, 1000) :\n",
    "        r1 = np.random.rand (Np, D)\n",
    "        r2 = np.random.rand (Np, D)\n",
    "\n",
    "        momentum = beta*momentum + (1-beta)*velocity\n",
    "        velocity = momentum + c1*r1*(pbest - particles) + c2*r2*(gbest - particles)\n",
    "\n",
    "        particles, velocity = ipcd (particles, particles+velocity, velocity)  \n",
    "        less = obj(particles) < obj(pbest)\n",
    "        pbest[less] = particles[less]\n",
    "        gbest = min (pbest , key = lambda x : obj(x.reshape(1,-1))[0])\n",
    "    \n",
    "    return gbest"
   ]
  },
  {
   "cell_type": "code",
   "execution_count": 21,
   "metadata": {},
   "outputs": [
    {
     "name": "stdout",
     "output_type": "stream",
     "text": [
      "[ 2.91097277e-47  3.39216556e-46  5.38245590e-47 -7.12685428e-47]\n"
     ]
    }
   ],
   "source": [
    "llim = np.repeat(-10, 4)\n",
    "rlim = np.repeat(10, 4)\n",
    "lol = pso (sphere, llim, rlim)\n",
    "\n",
    "print (lol)"
   ]
  }
 ],
 "metadata": {
  "kernelspec": {
   "display_name": "Python 3",
   "language": "python",
   "name": "python3"
  },
  "language_info": {
   "codemirror_mode": {
    "name": "ipython",
    "version": 3
   },
   "file_extension": ".py",
   "mimetype": "text/x-python",
   "name": "python",
   "nbconvert_exporter": "python",
   "pygments_lexer": "ipython3",
   "version": "3.8.3"
  }
 },
 "nbformat": 4,
 "nbformat_minor": 2
}
