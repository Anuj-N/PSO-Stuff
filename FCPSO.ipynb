{
 "cells": [
  {
   "cell_type": "markdown",
   "metadata": {},
   "source": [
    "## Imports"
   ]
  },
  {
   "cell_type": "code",
   "execution_count": null,
   "metadata": {},
   "outputs": [],
   "source": [
    "import numpy as np\n",
    "import matplotlib.pyplot as plt\n",
    "import fcpso\n",
    "import benchmark as bench"
   ]
  },
  {
   "cell_type": "markdown",
   "metadata": {},
   "source": [
    "## Get Objective Function"
   ]
  },
  {
   "cell_type": "code",
   "execution_count": null,
   "metadata": {},
   "outputs": [],
   "source": [
    "objective = bench.Rastrigin(None, dims=5)\n",
    "llim = objective.llim\n",
    "rlim = objective.rlim\n",
    "func = objective.obj\n",
    "der = objective.objder"
   ]
  },
  {
   "cell_type": "markdown",
   "metadata": {},
   "source": [
    "## Get Optimizer"
   ]
  },
  {
   "cell_type": "code",
   "execution_count": null,
   "metadata": {},
   "outputs": [],
   "source": [
    "mizer = fcpso.FCPSOem_Beta(func, llim, rlim, 25)\n",
    "retpack = mizer.optimize(print_iters=True)\n",
    "\n",
    "opt, approxGrad = retpack['rets']\n",
    "print (\"\\rOptimum is at f({}) = {}\".format(opt, func(opt.reshape(1,-1))[0]))\n",
    "print (\"Gradient at optimum = {}\".format(approxGrad(opt)[0]))"
   ]
  }
 ],
 "metadata": {
  "kernelspec": {
   "display_name": "Python 3",
   "language": "python",
   "name": "python3"
  },
  "language_info": {
   "codemirror_mode": {
    "name": "ipython",
    "version": 3
   },
   "file_extension": ".py",
   "mimetype": "text/x-python",
   "name": "python",
   "nbconvert_exporter": "python",
   "pygments_lexer": "ipython3",
   "version": "3.8.3"
  }
 },
 "nbformat": 4,
 "nbformat_minor": 4
}
